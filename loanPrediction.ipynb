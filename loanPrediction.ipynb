{
 "cells": [
  {
   "cell_type": "code",
   "execution_count": 1,
   "id": "deluxe-generic",
   "metadata": {
    "execution": {
     "iopub.execute_input": "2021-07-09T06:11:37.596005Z",
     "iopub.status.busy": "2021-07-09T06:11:37.594793Z",
     "iopub.status.idle": "2021-07-09T06:11:38.772014Z",
     "shell.execute_reply": "2021-07-09T06:11:38.771254Z",
     "shell.execute_reply.started": "2021-07-01T11:23:51.520201Z"
    },
    "papermill": {
     "duration": 1.218825,
     "end_time": "2021-07-09T06:11:38.772175",
     "exception": false,
     "start_time": "2021-07-09T06:11:37.553350",
     "status": "completed"
    },
    "tags": []
   },
   "outputs": [],
   "source": [
    "import pandas as pd\n",
    "import numpy as np\n",
    "import seaborn as sns\n",
    "from sklearn.model_selection import train_test_split\n",
    "from sklearn.ensemble import RandomForestClassifier\n",
    "from sklearn.metrics import accuracy_score\n",
    "from matplotlib import pyplot as plt\n",
    "import matplotlib\n",
    "%matplotlib inline\n",
    "import warnings\n",
    "warnings.filterwarnings('ignore')\n"
   ]
  },
  {
   "cell_type": "code",
   "execution_count": 2,
   "id": "looking-bryan",
   "metadata": {
    "execution": {
     "iopub.execute_input": "2021-07-09T06:11:38.856597Z",
     "iopub.status.busy": "2021-07-09T06:11:38.855963Z",
     "iopub.status.idle": "2021-07-09T06:11:38.910545Z",
     "shell.execute_reply": "2021-07-09T06:11:38.911012Z",
     "shell.execute_reply.started": "2021-07-01T11:23:53.059986Z"
    },
    "papermill": {
     "duration": 0.101867,
     "end_time": "2021-07-09T06:11:38.911215",
     "exception": false,
     "start_time": "2021-07-09T06:11:38.809348",
     "status": "completed"
    },
    "tags": []
   },
   "outputs": [
    {
     "data": {
      "text/html": [
       "<div>\n",
       "<style scoped>\n",
       "    .dataframe tbody tr th:only-of-type {\n",
       "        vertical-align: middle;\n",
       "    }\n",
       "\n",
       "    .dataframe tbody tr th {\n",
       "        vertical-align: top;\n",
       "    }\n",
       "\n",
       "    .dataframe thead th {\n",
       "        text-align: right;\n",
       "    }\n",
       "</style>\n",
       "<table border=\"1\" class=\"dataframe\">\n",
       "  <thead>\n",
       "    <tr style=\"text-align: right;\">\n",
       "      <th></th>\n",
       "      <th>Loan_ID</th>\n",
       "      <th>Gender</th>\n",
       "      <th>Married</th>\n",
       "      <th>Dependents</th>\n",
       "      <th>Education</th>\n",
       "      <th>Self_Employed</th>\n",
       "      <th>ApplicantIncome</th>\n",
       "      <th>CoapplicantIncome</th>\n",
       "      <th>LoanAmount</th>\n",
       "      <th>Loan_Amount_Term</th>\n",
       "      <th>Credit_History</th>\n",
       "      <th>Property_Area</th>\n",
       "      <th>Loan_Status</th>\n",
       "    </tr>\n",
       "  </thead>\n",
       "  <tbody>\n",
       "    <tr>\n",
       "      <th>0</th>\n",
       "      <td>LP001002</td>\n",
       "      <td>Male</td>\n",
       "      <td>No</td>\n",
       "      <td>0</td>\n",
       "      <td>Graduate</td>\n",
       "      <td>No</td>\n",
       "      <td>5849</td>\n",
       "      <td>0.0</td>\n",
       "      <td>NaN</td>\n",
       "      <td>360.0</td>\n",
       "      <td>1.0</td>\n",
       "      <td>Urban</td>\n",
       "      <td>Y</td>\n",
       "    </tr>\n",
       "    <tr>\n",
       "      <th>1</th>\n",
       "      <td>LP001003</td>\n",
       "      <td>Male</td>\n",
       "      <td>Yes</td>\n",
       "      <td>1</td>\n",
       "      <td>Graduate</td>\n",
       "      <td>No</td>\n",
       "      <td>4583</td>\n",
       "      <td>1508.0</td>\n",
       "      <td>128.0</td>\n",
       "      <td>360.0</td>\n",
       "      <td>1.0</td>\n",
       "      <td>Rural</td>\n",
       "      <td>N</td>\n",
       "    </tr>\n",
       "    <tr>\n",
       "      <th>2</th>\n",
       "      <td>LP001005</td>\n",
       "      <td>Male</td>\n",
       "      <td>Yes</td>\n",
       "      <td>0</td>\n",
       "      <td>Graduate</td>\n",
       "      <td>Yes</td>\n",
       "      <td>3000</td>\n",
       "      <td>0.0</td>\n",
       "      <td>66.0</td>\n",
       "      <td>360.0</td>\n",
       "      <td>1.0</td>\n",
       "      <td>Urban</td>\n",
       "      <td>Y</td>\n",
       "    </tr>\n",
       "    <tr>\n",
       "      <th>3</th>\n",
       "      <td>LP001006</td>\n",
       "      <td>Male</td>\n",
       "      <td>Yes</td>\n",
       "      <td>0</td>\n",
       "      <td>Not Graduate</td>\n",
       "      <td>No</td>\n",
       "      <td>2583</td>\n",
       "      <td>2358.0</td>\n",
       "      <td>120.0</td>\n",
       "      <td>360.0</td>\n",
       "      <td>1.0</td>\n",
       "      <td>Urban</td>\n",
       "      <td>Y</td>\n",
       "    </tr>\n",
       "    <tr>\n",
       "      <th>4</th>\n",
       "      <td>LP001008</td>\n",
       "      <td>Male</td>\n",
       "      <td>No</td>\n",
       "      <td>0</td>\n",
       "      <td>Graduate</td>\n",
       "      <td>No</td>\n",
       "      <td>6000</td>\n",
       "      <td>0.0</td>\n",
       "      <td>141.0</td>\n",
       "      <td>360.0</td>\n",
       "      <td>1.0</td>\n",
       "      <td>Urban</td>\n",
       "      <td>Y</td>\n",
       "    </tr>\n",
       "  </tbody>\n",
       "</table>\n",
       "</div>"
      ],
      "text/plain": [
       "    Loan_ID Gender Married Dependents     Education Self_Employed  \\\n",
       "0  LP001002   Male      No          0      Graduate            No   \n",
       "1  LP001003   Male     Yes          1      Graduate            No   \n",
       "2  LP001005   Male     Yes          0      Graduate           Yes   \n",
       "3  LP001006   Male     Yes          0  Not Graduate            No   \n",
       "4  LP001008   Male      No          0      Graduate            No   \n",
       "\n",
       "   ApplicantIncome  CoapplicantIncome  LoanAmount  Loan_Amount_Term  \\\n",
       "0             5849                0.0         NaN             360.0   \n",
       "1             4583             1508.0       128.0             360.0   \n",
       "2             3000                0.0        66.0             360.0   \n",
       "3             2583             2358.0       120.0             360.0   \n",
       "4             6000                0.0       141.0             360.0   \n",
       "\n",
       "   Credit_History Property_Area Loan_Status  \n",
       "0             1.0         Urban           Y  \n",
       "1             1.0         Rural           N  \n",
       "2             1.0         Urban           Y  \n",
       "3             1.0         Urban           Y  \n",
       "4             1.0         Urban           Y  "
      ]
     },
     "execution_count": 2,
     "metadata": {},
     "output_type": "execute_result"
    }
   ],
   "source": [
    "df = pd.read_csv(\"../input/loan-prediction-problem-dataset/train_u6lujuX_CVtuZ9i.csv\")\n",
    "df.head()"
   ]
  },
  {
   "cell_type": "code",
   "execution_count": 3,
   "id": "mighty-natural",
   "metadata": {
    "execution": {
     "iopub.execute_input": "2021-07-09T06:11:38.997407Z",
     "iopub.status.busy": "2021-07-09T06:11:38.996827Z",
     "iopub.status.idle": "2021-07-09T06:11:39.023224Z",
     "shell.execute_reply": "2021-07-09T06:11:39.022769Z",
     "shell.execute_reply.started": "2021-07-01T11:23:53.120743Z"
    },
    "papermill": {
     "duration": 0.071142,
     "end_time": "2021-07-09T06:11:39.023389",
     "exception": false,
     "start_time": "2021-07-09T06:11:38.952247",
     "status": "completed"
    },
    "tags": []
   },
   "outputs": [
    {
     "data": {
      "text/html": [
       "<div>\n",
       "<style scoped>\n",
       "    .dataframe tbody tr th:only-of-type {\n",
       "        vertical-align: middle;\n",
       "    }\n",
       "\n",
       "    .dataframe tbody tr th {\n",
       "        vertical-align: top;\n",
       "    }\n",
       "\n",
       "    .dataframe thead th {\n",
       "        text-align: right;\n",
       "    }\n",
       "</style>\n",
       "<table border=\"1\" class=\"dataframe\">\n",
       "  <thead>\n",
       "    <tr style=\"text-align: right;\">\n",
       "      <th></th>\n",
       "      <th>ApplicantIncome</th>\n",
       "      <th>CoapplicantIncome</th>\n",
       "      <th>LoanAmount</th>\n",
       "      <th>Loan_Amount_Term</th>\n",
       "      <th>Credit_History</th>\n",
       "    </tr>\n",
       "  </thead>\n",
       "  <tbody>\n",
       "    <tr>\n",
       "      <th>count</th>\n",
       "      <td>614.000000</td>\n",
       "      <td>614.000000</td>\n",
       "      <td>592.000000</td>\n",
       "      <td>600.00000</td>\n",
       "      <td>564.000000</td>\n",
       "    </tr>\n",
       "    <tr>\n",
       "      <th>mean</th>\n",
       "      <td>5403.459283</td>\n",
       "      <td>1621.245798</td>\n",
       "      <td>146.412162</td>\n",
       "      <td>342.00000</td>\n",
       "      <td>0.842199</td>\n",
       "    </tr>\n",
       "    <tr>\n",
       "      <th>std</th>\n",
       "      <td>6109.041673</td>\n",
       "      <td>2926.248369</td>\n",
       "      <td>85.587325</td>\n",
       "      <td>65.12041</td>\n",
       "      <td>0.364878</td>\n",
       "    </tr>\n",
       "    <tr>\n",
       "      <th>min</th>\n",
       "      <td>150.000000</td>\n",
       "      <td>0.000000</td>\n",
       "      <td>9.000000</td>\n",
       "      <td>12.00000</td>\n",
       "      <td>0.000000</td>\n",
       "    </tr>\n",
       "    <tr>\n",
       "      <th>25%</th>\n",
       "      <td>2877.500000</td>\n",
       "      <td>0.000000</td>\n",
       "      <td>100.000000</td>\n",
       "      <td>360.00000</td>\n",
       "      <td>1.000000</td>\n",
       "    </tr>\n",
       "    <tr>\n",
       "      <th>50%</th>\n",
       "      <td>3812.500000</td>\n",
       "      <td>1188.500000</td>\n",
       "      <td>128.000000</td>\n",
       "      <td>360.00000</td>\n",
       "      <td>1.000000</td>\n",
       "    </tr>\n",
       "    <tr>\n",
       "      <th>75%</th>\n",
       "      <td>5795.000000</td>\n",
       "      <td>2297.250000</td>\n",
       "      <td>168.000000</td>\n",
       "      <td>360.00000</td>\n",
       "      <td>1.000000</td>\n",
       "    </tr>\n",
       "    <tr>\n",
       "      <th>max</th>\n",
       "      <td>81000.000000</td>\n",
       "      <td>41667.000000</td>\n",
       "      <td>700.000000</td>\n",
       "      <td>480.00000</td>\n",
       "      <td>1.000000</td>\n",
       "    </tr>\n",
       "  </tbody>\n",
       "</table>\n",
       "</div>"
      ],
      "text/plain": [
       "       ApplicantIncome  CoapplicantIncome  LoanAmount  Loan_Amount_Term  \\\n",
       "count       614.000000         614.000000  592.000000         600.00000   \n",
       "mean       5403.459283        1621.245798  146.412162         342.00000   \n",
       "std        6109.041673        2926.248369   85.587325          65.12041   \n",
       "min         150.000000           0.000000    9.000000          12.00000   \n",
       "25%        2877.500000           0.000000  100.000000         360.00000   \n",
       "50%        3812.500000        1188.500000  128.000000         360.00000   \n",
       "75%        5795.000000        2297.250000  168.000000         360.00000   \n",
       "max       81000.000000       41667.000000  700.000000         480.00000   \n",
       "\n",
       "       Credit_History  \n",
       "count      564.000000  \n",
       "mean         0.842199  \n",
       "std          0.364878  \n",
       "min          0.000000  \n",
       "25%          1.000000  \n",
       "50%          1.000000  \n",
       "75%          1.000000  \n",
       "max          1.000000  "
      ]
     },
     "execution_count": 3,
     "metadata": {},
     "output_type": "execute_result"
    }
   ],
   "source": [
    "df.describe()"
   ]
  },
  {
   "cell_type": "code",
   "execution_count": 4,
   "id": "respiratory-raise",
   "metadata": {
    "execution": {
     "iopub.execute_input": "2021-07-09T06:11:39.109945Z",
     "iopub.status.busy": "2021-07-09T06:11:39.109327Z",
     "iopub.status.idle": "2021-07-09T06:11:39.119865Z",
     "shell.execute_reply": "2021-07-09T06:11:39.119246Z",
     "shell.execute_reply.started": "2021-07-01T11:23:53.152956Z"
    },
    "papermill": {
     "duration": 0.058479,
     "end_time": "2021-07-09T06:11:39.120053",
     "exception": false,
     "start_time": "2021-07-09T06:11:39.061574",
     "status": "completed"
    },
    "tags": []
   },
   "outputs": [
    {
     "name": "stdout",
     "output_type": "stream",
     "text": [
      "<class 'pandas.core.frame.DataFrame'>\n",
      "RangeIndex: 614 entries, 0 to 613\n",
      "Data columns (total 13 columns):\n",
      " #   Column             Non-Null Count  Dtype  \n",
      "---  ------             --------------  -----  \n",
      " 0   Loan_ID            614 non-null    object \n",
      " 1   Gender             601 non-null    object \n",
      " 2   Married            611 non-null    object \n",
      " 3   Dependents         599 non-null    object \n",
      " 4   Education          614 non-null    object \n",
      " 5   Self_Employed      582 non-null    object \n",
      " 6   ApplicantIncome    614 non-null    int64  \n",
      " 7   CoapplicantIncome  614 non-null    float64\n",
      " 8   LoanAmount         592 non-null    float64\n",
      " 9   Loan_Amount_Term   600 non-null    float64\n",
      " 10  Credit_History     564 non-null    float64\n",
      " 11  Property_Area      614 non-null    object \n",
      " 12  Loan_Status        614 non-null    object \n",
      "dtypes: float64(4), int64(1), object(8)\n",
      "memory usage: 62.5+ KB\n"
     ]
    }
   ],
   "source": [
    "df.info()"
   ]
  },
  {
   "cell_type": "markdown",
   "id": "international-sheep",
   "metadata": {
    "papermill": {
     "duration": 0.042769,
     "end_time": "2021-07-09T06:11:39.213483",
     "exception": false,
     "start_time": "2021-07-09T06:11:39.170714",
     "status": "completed"
    },
    "tags": []
   },
   "source": [
    "# Dealing with missing values"
   ]
  },
  {
   "cell_type": "code",
   "execution_count": 5,
   "id": "musical-minnesota",
   "metadata": {
    "execution": {
     "iopub.execute_input": "2021-07-09T06:11:39.301464Z",
     "iopub.status.busy": "2021-07-09T06:11:39.300860Z",
     "iopub.status.idle": "2021-07-09T06:11:39.305715Z",
     "shell.execute_reply": "2021-07-09T06:11:39.305258Z",
     "shell.execute_reply.started": "2021-07-01T11:23:53.180879Z"
    },
    "papermill": {
     "duration": 0.050836,
     "end_time": "2021-07-09T06:11:39.305855",
     "exception": false,
     "start_time": "2021-07-09T06:11:39.255019",
     "status": "completed"
    },
    "scrolled": true,
    "tags": []
   },
   "outputs": [
    {
     "data": {
      "text/plain": [
       "Loan_ID               0\n",
       "Gender               13\n",
       "Married               3\n",
       "Dependents           15\n",
       "Education             0\n",
       "Self_Employed        32\n",
       "ApplicantIncome       0\n",
       "CoapplicantIncome     0\n",
       "LoanAmount           22\n",
       "Loan_Amount_Term     14\n",
       "Credit_History       50\n",
       "Property_Area         0\n",
       "Loan_Status           0\n",
       "dtype: int64"
      ]
     },
     "execution_count": 5,
     "metadata": {},
     "output_type": "execute_result"
    }
   ],
   "source": [
    "df.isnull().sum()"
   ]
  },
  {
   "cell_type": "code",
   "execution_count": 6,
   "id": "smaller-coordinate",
   "metadata": {
    "execution": {
     "iopub.execute_input": "2021-07-09T06:11:39.386693Z",
     "iopub.status.busy": "2021-07-09T06:11:39.386122Z",
     "iopub.status.idle": "2021-07-09T06:11:39.390527Z",
     "shell.execute_reply": "2021-07-09T06:11:39.390051Z",
     "shell.execute_reply.started": "2021-07-01T11:23:53.195713Z"
    },
    "papermill": {
     "duration": 0.045769,
     "end_time": "2021-07-09T06:11:39.390655",
     "exception": false,
     "start_time": "2021-07-09T06:11:39.344886",
     "status": "completed"
    },
    "tags": []
   },
   "outputs": [],
   "source": [
    "#1 first filling up categorical misising values"
   ]
  },
  {
   "cell_type": "code",
   "execution_count": 7,
   "id": "starting-surveillance",
   "metadata": {
    "execution": {
     "iopub.execute_input": "2021-07-09T06:11:39.492343Z",
     "iopub.status.busy": "2021-07-09T06:11:39.491227Z",
     "iopub.status.idle": "2021-07-09T06:11:39.493507Z",
     "shell.execute_reply": "2021-07-09T06:11:39.494057Z",
     "shell.execute_reply.started": "2021-07-01T11:23:53.202171Z"
    },
    "papermill": {
     "duration": 0.058754,
     "end_time": "2021-07-09T06:11:39.494329",
     "exception": false,
     "start_time": "2021-07-09T06:11:39.435575",
     "status": "completed"
    },
    "tags": []
   },
   "outputs": [],
   "source": [
    "df['Gender'] = df[\"Gender\"].fillna(df['Gender'].mode()[0])\n",
    "df['Married'] = df[\"Married\"].fillna(df['Married'].mode()[0])\n",
    "df['Self_Employed'] = df[\"Self_Employed\"].fillna(df['Self_Employed'].mode()[0])"
   ]
  },
  {
   "cell_type": "code",
   "execution_count": 8,
   "id": "affecting-instruction",
   "metadata": {
    "execution": {
     "iopub.execute_input": "2021-07-09T06:11:39.580073Z",
     "iopub.status.busy": "2021-07-09T06:11:39.579191Z",
     "iopub.status.idle": "2021-07-09T06:11:39.582662Z",
     "shell.execute_reply": "2021-07-09T06:11:39.583184Z",
     "shell.execute_reply.started": "2021-07-01T11:23:53.221095Z"
    },
    "papermill": {
     "duration": 0.045387,
     "end_time": "2021-07-09T06:11:39.583352",
     "exception": false,
     "start_time": "2021-07-09T06:11:39.537965",
     "status": "completed"
    },
    "tags": []
   },
   "outputs": [],
   "source": [
    "# counting the Dependents for better understanding about the data before filling it up."
   ]
  },
  {
   "cell_type": "code",
   "execution_count": 9,
   "id": "conditional-terrorist",
   "metadata": {
    "execution": {
     "iopub.execute_input": "2021-07-09T06:11:39.664050Z",
     "iopub.status.busy": "2021-07-09T06:11:39.663175Z",
     "iopub.status.idle": "2021-07-09T06:11:39.815396Z",
     "shell.execute_reply": "2021-07-09T06:11:39.814853Z",
     "shell.execute_reply.started": "2021-07-01T11:23:53.234547Z"
    },
    "papermill": {
     "duration": 0.193554,
     "end_time": "2021-07-09T06:11:39.815530",
     "exception": false,
     "start_time": "2021-07-09T06:11:39.621976",
     "status": "completed"
    },
    "tags": []
   },
   "outputs": [
    {
     "data": {
      "text/plain": [
       "<AxesSubplot:xlabel='Dependents', ylabel='count'>"
      ]
     },
     "execution_count": 9,
     "metadata": {},
     "output_type": "execute_result"
    },
    {
     "data": {
      "image/png": "[encoded data removed]",
      "text/plain": [
       "<Figure size 432x288 with 1 Axes>"
      ]
     },
     "metadata": {
      "needs_background": "light"
     },
     "output_type": "display_data"
    }
   ],
   "source": [
    "sns.countplot(x ='Dependents', data = df)"
   ]
  },
  {
   "cell_type": "code",
   "execution_count": 10,
   "id": "wired-empire",
   "metadata": {
    "execution": {
     "iopub.execute_input": "2021-07-09T06:11:39.900598Z",
     "iopub.status.busy": "2021-07-09T06:11:39.899690Z",
     "iopub.status.idle": "2021-07-09T06:11:39.903137Z",
     "shell.execute_reply": "2021-07-09T06:11:39.903695Z",
     "shell.execute_reply.started": "2021-07-01T11:23:53.41991Z"
    },
    "papermill": {
     "duration": 0.046341,
     "end_time": "2021-07-09T06:11:39.903852",
     "exception": false,
     "start_time": "2021-07-09T06:11:39.857511",
     "status": "completed"
    },
    "tags": []
   },
   "outputs": [],
   "source": [
    "#as we can see filling with mode make sense here."
   ]
  },
  {
   "cell_type": "code",
   "execution_count": 11,
   "id": "dimensional-reason",
   "metadata": {
    "execution": {
     "iopub.execute_input": "2021-07-09T06:11:39.987481Z",
     "iopub.status.busy": "2021-07-09T06:11:39.986556Z",
     "iopub.status.idle": "2021-07-09T06:11:39.991927Z",
     "shell.execute_reply": "2021-07-09T06:11:39.992456Z",
     "shell.execute_reply.started": "2021-07-01T11:23:53.424922Z"
    },
    "papermill": {
     "duration": 0.049227,
     "end_time": "2021-07-09T06:11:39.992625",
     "exception": false,
     "start_time": "2021-07-09T06:11:39.943398",
     "status": "completed"
    },
    "tags": []
   },
   "outputs": [],
   "source": [
    "df['Dependents'] = df[\"Dependents\"].fillna(df['Dependents'].mode()[0])"
   ]
  },
  {
   "cell_type": "code",
   "execution_count": 12,
   "id": "centered-pointer",
   "metadata": {
    "execution": {
     "iopub.execute_input": "2021-07-09T06:11:40.074988Z",
     "iopub.status.busy": "2021-07-09T06:11:40.074088Z",
     "iopub.status.idle": "2021-07-09T06:11:40.078244Z",
     "shell.execute_reply": "2021-07-09T06:11:40.077778Z",
     "shell.execute_reply.started": "2021-07-01T11:23:53.442333Z"
    },
    "papermill": {
     "duration": 0.046368,
     "end_time": "2021-07-09T06:11:40.078397",
     "exception": false,
     "start_time": "2021-07-09T06:11:40.032029",
     "status": "completed"
    },
    "tags": []
   },
   "outputs": [],
   "source": [
    "#2 filling numerical values"
   ]
  },
  {
   "cell_type": "code",
   "execution_count": 13,
   "id": "fatal-lesson",
   "metadata": {
    "execution": {
     "iopub.execute_input": "2021-07-09T06:11:40.161821Z",
     "iopub.status.busy": "2021-07-09T06:11:40.160887Z",
     "iopub.status.idle": "2021-07-09T06:11:40.163205Z",
     "shell.execute_reply": "2021-07-09T06:11:40.163763Z",
     "shell.execute_reply.started": "2021-07-01T11:23:53.454599Z"
    },
    "papermill": {
     "duration": 0.046238,
     "end_time": "2021-07-09T06:11:40.163924",
     "exception": false,
     "start_time": "2021-07-09T06:11:40.117686",
     "status": "completed"
    },
    "tags": []
   },
   "outputs": [],
   "source": [
    "#we should check for outliers before filling up numerical values."
   ]
  },
  {
   "cell_type": "code",
   "execution_count": 14,
   "id": "desirable-wilson",
   "metadata": {
    "execution": {
     "iopub.execute_input": "2021-07-09T06:11:40.248970Z",
     "iopub.status.busy": "2021-07-09T06:11:40.248110Z",
     "iopub.status.idle": "2021-07-09T06:11:40.252140Z",
     "shell.execute_reply": "2021-07-09T06:11:40.251697Z",
     "shell.execute_reply.started": "2021-07-01T11:23:53.468514Z"
    },
    "papermill": {
     "duration": 0.048925,
     "end_time": "2021-07-09T06:11:40.252275",
     "exception": false,
     "start_time": "2021-07-09T06:11:40.203350",
     "status": "completed"
    },
    "tags": []
   },
   "outputs": [
    {
     "data": {
      "text/plain": [
       "array([ 1.,  0., nan])"
      ]
     },
     "execution_count": 14,
     "metadata": {},
     "output_type": "execute_result"
    }
   ],
   "source": [
    "df['Credit_History'].unique()"
   ]
  },
  {
   "cell_type": "code",
   "execution_count": 15,
   "id": "touched-antique",
   "metadata": {
    "execution": {
     "iopub.execute_input": "2021-07-09T06:11:40.337814Z",
     "iopub.status.busy": "2021-07-09T06:11:40.336897Z",
     "iopub.status.idle": "2021-07-09T06:11:40.428169Z",
     "shell.execute_reply": "2021-07-09T06:11:40.427683Z",
     "shell.execute_reply.started": "2021-07-01T11:23:53.485537Z"
    },
    "papermill": {
     "duration": 0.135945,
     "end_time": "2021-07-09T06:11:40.428321",
     "exception": false,
     "start_time": "2021-07-09T06:11:40.292376",
     "status": "completed"
    },
    "tags": []
   },
   "outputs": [
    {
     "data": {
      "text/plain": [
       "<AxesSubplot:xlabel='Credit_History', ylabel='count'>"
      ]
     },
     "execution_count": 15,
     "metadata": {},
     "output_type": "execute_result"
    },
    {
     "data": {
      "image/png": "[encoded data removed]",
      "text/plain": [
       "<Figure size 432x288 with 1 Axes>"
      ]
     },
     "metadata": {
      "needs_background": "light"
     },
     "output_type": "display_data"
    }
   ],
   "source": [
    "sns.countplot(x ='Credit_History', data = df)"
   ]
  },
  {
   "cell_type": "code",
   "execution_count": 16,
   "id": "agricultural-stack",
   "metadata": {
    "execution": {
     "iopub.execute_input": "2021-07-09T06:11:40.516653Z",
     "iopub.status.busy": "2021-07-09T06:11:40.515744Z",
     "iopub.status.idle": "2021-07-09T06:11:40.518864Z",
     "shell.execute_reply": "2021-07-09T06:11:40.518315Z",
     "shell.execute_reply.started": "2021-07-01T11:23:53.606939Z"
    },
    "papermill": {
     "duration": 0.050105,
     "end_time": "2021-07-09T06:11:40.518996",
     "exception": false,
     "start_time": "2021-07-09T06:11:40.468891",
     "status": "completed"
    },
    "tags": []
   },
   "outputs": [],
   "source": [
    "df['Credit_History']=df['Credit_History'].fillna(df['Credit_History'].mode()[0])"
   ]
  },
  {
   "cell_type": "code",
   "execution_count": 17,
   "id": "passive-queue",
   "metadata": {
    "execution": {
     "iopub.execute_input": "2021-07-09T06:11:40.617773Z",
     "iopub.status.busy": "2021-07-09T06:11:40.611056Z",
     "iopub.status.idle": "2021-07-09T06:11:40.785731Z",
     "shell.execute_reply": "2021-07-09T06:11:40.785215Z",
     "shell.execute_reply.started": "2021-07-01T11:23:53.614986Z"
    },
    "papermill": {
     "duration": 0.226081,
     "end_time": "2021-07-09T06:11:40.785865",
     "exception": false,
     "start_time": "2021-07-09T06:11:40.559784",
     "status": "completed"
    },
    "tags": []
   },
   "outputs": [
    {
     "data": {
      "image/png": "[encoded data removed]",
      "text/plain": [
       "<Figure size 432x288 with 1 Axes>"
      ]
     },
     "metadata": {
      "needs_background": "light"
     },
     "output_type": "display_data"
    }
   ],
   "source": [
    "splot = sns.countplot(x ='Loan_Amount_Term', data = df)\n",
    "for p in splot.patches:\n",
    "    splot.annotate(format(p.get_height(), '.2f'), (p.get_x() + p.get_width() / 2., p.get_height()), ha = 'center', va = 'center', xytext = (0, 10), textcoords = 'offset points')"
   ]
  },
  {
   "cell_type": "code",
   "execution_count": 18,
   "id": "insured-diesel",
   "metadata": {
    "execution": {
     "iopub.execute_input": "2021-07-09T06:11:40.885046Z",
     "iopub.status.busy": "2021-07-09T06:11:40.884132Z",
     "iopub.status.idle": "2021-07-09T06:11:40.886916Z",
     "shell.execute_reply": "2021-07-09T06:11:40.887523Z",
     "shell.execute_reply.started": "2021-07-01T11:23:53.853045Z"
    },
    "papermill": {
     "duration": 0.060164,
     "end_time": "2021-07-09T06:11:40.887735",
     "exception": false,
     "start_time": "2021-07-09T06:11:40.827571",
     "status": "completed"
    },
    "tags": []
   },
   "outputs": [],
   "source": [
    "# we can see that 360 has count of 512 so thats why replacing the loan_amount_term by mode will be smarter choice."
   ]
  },
  {
   "cell_type": "code",
   "execution_count": 19,
   "id": "documented-turkey",
   "metadata": {
    "execution": {
     "iopub.execute_input": "2021-07-09T06:11:40.990711Z",
     "iopub.status.busy": "2021-07-09T06:11:40.989877Z",
     "iopub.status.idle": "2021-07-09T06:11:40.992635Z",
     "shell.execute_reply": "2021-07-09T06:11:40.992037Z",
     "shell.execute_reply.started": "2021-07-01T11:23:53.861355Z"
    },
    "papermill": {
     "duration": 0.048882,
     "end_time": "2021-07-09T06:11:40.992776",
     "exception": false,
     "start_time": "2021-07-09T06:11:40.943894",
     "status": "completed"
    },
    "tags": []
   },
   "outputs": [],
   "source": [
    "df['Loan_Amount_Term']=df['Loan_Amount_Term'].fillna(df['Loan_Amount_Term'].mode()[0])"
   ]
  },
  {
   "cell_type": "code",
   "execution_count": 20,
   "id": "suburban-contents",
   "metadata": {
    "execution": {
     "iopub.execute_input": "2021-07-09T06:11:41.186799Z",
     "iopub.status.busy": "2021-07-09T06:11:41.082638Z",
     "iopub.status.idle": "2021-07-09T06:11:44.107376Z",
     "shell.execute_reply": "2021-07-09T06:11:44.106905Z",
     "shell.execute_reply.started": "2021-07-01T11:23:53.87815Z"
    },
    "papermill": {
     "duration": 3.073409,
     "end_time": "2021-07-09T06:11:44.107513",
     "exception": false,
     "start_time": "2021-07-09T06:11:41.034104",
     "status": "completed"
    },
    "tags": []
   },
   "outputs": [
    {
     "data": {
      "image/png": "[encoded data removed]",
      "text/plain": [
       "<Figure size 1800x576 with 1 Axes>"
      ]
     },
     "metadata": {
      "needs_background": "light"
     },
     "output_type": "display_data"
    }
   ],
   "source": [
    "plt.figure(figsize=(25, 8))\n",
    "splot = sns.countplot(x ='LoanAmount', data = df)\n",
    "for p in splot.patches:\n",
    "    splot.annotate(format(p.get_height(), '.2f'), (p.get_x() + p.get_width() / 2., p.get_height()), ha = 'center', va = 'center', xytext = (0, 10), textcoords = 'offset points')"
   ]
  },
  {
   "cell_type": "code",
   "execution_count": 21,
   "id": "solid-tiffany",
   "metadata": {
    "execution": {
     "iopub.execute_input": "2021-07-09T06:11:44.198105Z",
     "iopub.status.busy": "2021-07-09T06:11:44.197521Z",
     "iopub.status.idle": "2021-07-09T06:11:44.200615Z",
     "shell.execute_reply": "2021-07-09T06:11:44.200139Z",
     "shell.execute_reply.started": "2021-07-01T11:23:57.423587Z"
    },
    "papermill": {
     "duration": 0.049863,
     "end_time": "2021-07-09T06:11:44.200747",
     "exception": false,
     "start_time": "2021-07-09T06:11:44.150884",
     "status": "completed"
    },
    "tags": []
   },
   "outputs": [],
   "source": [
    "#we can not replace loan amount with mode because here mean or median will be better.\n",
    "#before making choice beteween mean and median we have to check for outliers.\n",
    "# becuase mean is affected by outliers."
   ]
  },
  {
   "cell_type": "code",
   "execution_count": 22,
   "id": "freelance-refrigerator",
   "metadata": {
    "execution": {
     "iopub.execute_input": "2021-07-09T06:11:44.293439Z",
     "iopub.status.busy": "2021-07-09T06:11:44.292141Z",
     "iopub.status.idle": "2021-07-09T06:11:44.397167Z",
     "shell.execute_reply": "2021-07-09T06:11:44.396704Z",
     "shell.execute_reply.started": "2021-07-01T11:23:57.42994Z"
    },
    "papermill": {
     "duration": 0.152851,
     "end_time": "2021-07-09T06:11:44.397325",
     "exception": false,
     "start_time": "2021-07-09T06:11:44.244474",
     "status": "completed"
    },
    "tags": []
   },
   "outputs": [
    {
     "data": {
      "text/plain": [
       "<AxesSubplot:xlabel='LoanAmount'>"
      ]
     },
     "execution_count": 22,
     "metadata": {},
     "output_type": "execute_result"
    },
    {
     "data": {
      "image/png": "[encoded data removed]",
      "text/plain": [
       "<Figure size 432x288 with 1 Axes>"
      ]
     },
     "metadata": {
      "needs_background": "light"
     },
     "output_type": "display_data"
    }
   ],
   "source": [
    "sns.boxplot(x=\"LoanAmount\", data=df)"
   ]
  },
  {
   "cell_type": "code",
   "execution_count": 23,
   "id": "unlimited-brave",
   "metadata": {
    "execution": {
     "iopub.execute_input": "2021-07-09T06:11:44.490476Z",
     "iopub.status.busy": "2021-07-09T06:11:44.489816Z",
     "iopub.status.idle": "2021-07-09T06:11:44.491444Z",
     "shell.execute_reply": "2021-07-09T06:11:44.491886Z",
     "shell.execute_reply.started": "2021-07-01T11:23:57.570771Z"
    },
    "papermill": {
     "duration": 0.049846,
     "end_time": "2021-07-09T06:11:44.492056",
     "exception": false,
     "start_time": "2021-07-09T06:11:44.442210",
     "status": "completed"
    },
    "tags": []
   },
   "outputs": [],
   "source": [
    "#there is outlier so "
   ]
  },
  {
   "cell_type": "code",
   "execution_count": 24,
   "id": "alpine-glasgow",
   "metadata": {
    "execution": {
     "iopub.execute_input": "2021-07-09T06:11:44.583535Z",
     "iopub.status.busy": "2021-07-09T06:11:44.582936Z",
     "iopub.status.idle": "2021-07-09T06:11:44.588809Z",
     "shell.execute_reply": "2021-07-09T06:11:44.589253Z",
     "shell.execute_reply.started": "2021-07-01T11:23:57.601177Z"
    },
    "papermill": {
     "duration": 0.052975,
     "end_time": "2021-07-09T06:11:44.589458",
     "exception": false,
     "start_time": "2021-07-09T06:11:44.536483",
     "status": "completed"
    },
    "tags": []
   },
   "outputs": [],
   "source": [
    "Q1 = df['LoanAmount'].quantile(0.25)\n",
    "Q3 = df['LoanAmount'].quantile(0.75)\n",
    "IQR = Q3 - Q1"
   ]
  },
  {
   "cell_type": "code",
   "execution_count": 25,
   "id": "comprehensive-worth",
   "metadata": {
    "execution": {
     "iopub.execute_input": "2021-07-09T06:11:44.680680Z",
     "iopub.status.busy": "2021-07-09T06:11:44.680101Z",
     "iopub.status.idle": "2021-07-09T06:11:44.686642Z",
     "shell.execute_reply": "2021-07-09T06:11:44.686074Z",
     "shell.execute_reply.started": "2021-07-01T11:23:57.924004Z"
    },
    "papermill": {
     "duration": 0.053186,
     "end_time": "2021-07-09T06:11:44.686772",
     "exception": false,
     "start_time": "2021-07-09T06:11:44.633586",
     "status": "completed"
    },
    "tags": []
   },
   "outputs": [
    {
     "name": "stdout",
     "output_type": "stream",
     "text": [
      "low_limit is -2.0\n",
      "up_limit is 270.0\n"
     ]
    }
   ],
   "source": [
    "low_lim = Q1 - 1.5 * IQR\n",
    "up_lim = Q3 + 1.5 * IQR\n",
    "print('low_limit is', low_lim)\n",
    "print('up_limit is', up_lim)"
   ]
  },
  {
   "cell_type": "code",
   "execution_count": 26,
   "id": "periodic-height",
   "metadata": {
    "execution": {
     "iopub.execute_input": "2021-07-09T06:11:44.781876Z",
     "iopub.status.busy": "2021-07-09T06:11:44.781255Z",
     "iopub.status.idle": "2021-07-09T06:11:44.784861Z",
     "shell.execute_reply": "2021-07-09T06:11:44.784064Z",
     "shell.execute_reply.started": "2021-07-01T11:23:57.940191Z"
    },
    "papermill": {
     "duration": 0.053719,
     "end_time": "2021-07-09T06:11:44.785042",
     "exception": false,
     "start_time": "2021-07-09T06:11:44.731323",
     "status": "completed"
    },
    "tags": []
   },
   "outputs": [
    {
     "name": "stdout",
     "output_type": "stream",
     "text": [
      " outlier in the dataset is [349.0, 315.0, 320.0, 286.0, 312.0, 370.0, 650.0, 290.0, 600.0, 275.0, 700.0, 495.0, 280.0, 279.0, 304.0, 330.0, 436.0, 480.0, 300.0, 376.0, 490.0, 308.0, 570.0, 380.0, 296.0, 275.0, 360.0, 405.0, 500.0, 480.0, 311.0, 480.0, 400.0, 324.0, 600.0, 275.0, 292.0, 350.0, 496.0]\n"
     ]
    }
   ],
   "source": [
    "outlier = []\n",
    "for x in df['LoanAmount']:\n",
    "    if ((x> up_lim) or (x<low_lim)):\n",
    "         outlier.append(x)\n",
    "print(' outlier in the dataset is', outlier)"
   ]
  },
  {
   "cell_type": "code",
   "execution_count": 27,
   "id": "composite-relative",
   "metadata": {
    "execution": {
     "iopub.execute_input": "2021-07-09T06:11:44.880355Z",
     "iopub.status.busy": "2021-07-09T06:11:44.879466Z",
     "iopub.status.idle": "2021-07-09T06:11:44.883063Z",
     "shell.execute_reply": "2021-07-09T06:11:44.883499Z",
     "shell.execute_reply.started": "2021-07-01T11:23:57.954915Z"
    },
    "papermill": {
     "duration": 0.052568,
     "end_time": "2021-07-09T06:11:44.883662",
     "exception": false,
     "start_time": "2021-07-09T06:11:44.831094",
     "status": "completed"
    },
    "tags": []
   },
   "outputs": [
    {
     "data": {
      "text/plain": [
       "39"
      ]
     },
     "execution_count": 27,
     "metadata": {},
     "output_type": "execute_result"
    }
   ],
   "source": [
    "len(outlier)"
   ]
  },
  {
   "cell_type": "code",
   "execution_count": 28,
   "id": "hired-necklace",
   "metadata": {
    "execution": {
     "iopub.execute_input": "2021-07-09T06:11:44.977680Z",
     "iopub.status.busy": "2021-07-09T06:11:44.977061Z",
     "iopub.status.idle": "2021-07-09T06:11:44.980080Z",
     "shell.execute_reply": "2021-07-09T06:11:44.979538Z",
     "shell.execute_reply.started": "2021-07-01T11:23:57.969807Z"
    },
    "papermill": {
     "duration": 0.051183,
     "end_time": "2021-07-09T06:11:44.980237",
     "exception": false,
     "start_time": "2021-07-09T06:11:44.929054",
     "status": "completed"
    },
    "tags": []
   },
   "outputs": [],
   "source": [
    "#we will not remove the outliers becuase it has 39/592, which means it has 6.5% amount of data in whole."
   ]
  },
  {
   "cell_type": "code",
   "execution_count": 29,
   "id": "italian-hunger",
   "metadata": {
    "execution": {
     "iopub.execute_input": "2021-07-09T06:11:45.074034Z",
     "iopub.status.busy": "2021-07-09T06:11:45.073099Z",
     "iopub.status.idle": "2021-07-09T06:11:45.075923Z",
     "shell.execute_reply": "2021-07-09T06:11:45.075483Z",
     "shell.execute_reply.started": "2021-07-01T11:23:57.98008Z"
    },
    "papermill": {
     "duration": 0.050829,
     "end_time": "2021-07-09T06:11:45.076058",
     "exception": false,
     "start_time": "2021-07-09T06:11:45.025229",
     "status": "completed"
    },
    "tags": []
   },
   "outputs": [],
   "source": [
    "#we will use median to replace the missing value.\n",
    "#becuase median is not affected by the outliers."
   ]
  },
  {
   "cell_type": "code",
   "execution_count": 30,
   "id": "expanded-thesaurus",
   "metadata": {
    "execution": {
     "iopub.execute_input": "2021-07-09T06:11:45.173034Z",
     "iopub.status.busy": "2021-07-09T06:11:45.172133Z",
     "iopub.status.idle": "2021-07-09T06:11:45.174812Z",
     "shell.execute_reply": "2021-07-09T06:11:45.175192Z",
     "shell.execute_reply.started": "2021-07-01T11:23:57.992932Z"
    },
    "papermill": {
     "duration": 0.054171,
     "end_time": "2021-07-09T06:11:45.175372",
     "exception": false,
     "start_time": "2021-07-09T06:11:45.121201",
     "status": "completed"
    },
    "tags": []
   },
   "outputs": [],
   "source": [
    "df['LoanAmount']=df['LoanAmount'].fillna(df['LoanAmount'].median())"
   ]
  },
  {
   "cell_type": "code",
   "execution_count": 31,
   "id": "laden-intellectual",
   "metadata": {
    "execution": {
     "iopub.execute_input": "2021-07-09T06:11:45.272227Z",
     "iopub.status.busy": "2021-07-09T06:11:45.271436Z",
     "iopub.status.idle": "2021-07-09T06:11:45.274684Z",
     "shell.execute_reply": "2021-07-09T06:11:45.275090Z",
     "shell.execute_reply.started": "2021-07-01T11:23:58.007736Z"
    },
    "papermill": {
     "duration": 0.055031,
     "end_time": "2021-07-09T06:11:45.275251",
     "exception": false,
     "start_time": "2021-07-09T06:11:45.220220",
     "status": "completed"
    },
    "tags": []
   },
   "outputs": [
    {
     "data": {
      "text/plain": [
       "Loan_ID              0\n",
       "Gender               0\n",
       "Married              0\n",
       "Dependents           0\n",
       "Education            0\n",
       "Self_Employed        0\n",
       "ApplicantIncome      0\n",
       "CoapplicantIncome    0\n",
       "LoanAmount           0\n",
       "Loan_Amount_Term     0\n",
       "Credit_History       0\n",
       "Property_Area        0\n",
       "Loan_Status          0\n",
       "dtype: int64"
      ]
     },
     "execution_count": 31,
     "metadata": {},
     "output_type": "execute_result"
    }
   ],
   "source": [
    "df.isnull().sum()\n",
    "# now there is no missing values."
   ]
  },
  {
   "cell_type": "markdown",
   "id": "round-recycling",
   "metadata": {
    "papermill": {
     "duration": 0.044581,
     "end_time": "2021-07-09T06:11:45.365670",
     "exception": false,
     "start_time": "2021-07-09T06:11:45.321089",
     "status": "completed"
    },
    "tags": []
   },
   "source": [
    "# Checking for data imbalance"
   ]
  },
  {
   "cell_type": "code",
   "execution_count": 32,
   "id": "material-funeral",
   "metadata": {
    "execution": {
     "iopub.execute_input": "2021-07-09T06:11:45.476083Z",
     "iopub.status.busy": "2021-07-09T06:11:45.462599Z",
     "iopub.status.idle": "2021-07-09T06:11:45.568829Z",
     "shell.execute_reply": "2021-07-09T06:11:45.568256Z",
     "shell.execute_reply.started": "2021-07-01T11:23:58.028971Z"
    },
    "papermill": {
     "duration": 0.158308,
     "end_time": "2021-07-09T06:11:45.568963",
     "exception": false,
     "start_time": "2021-07-09T06:11:45.410655",
     "status": "completed"
    },
    "tags": []
   },
   "outputs": [
    {
     "name": "stdout",
     "output_type": "stream",
     "text": [
      "The percentage of Y class : 0.69\n",
      "The percentage of N class : 0.31\n"
     ]
    },
    {
     "data": {
      "image/png": "[encoded data removed]",
      "text/plain": [
       "<Figure size 432x288 with 1 Axes>"
      ]
     },
     "metadata": {
      "needs_background": "light"
     },
     "output_type": "display_data"
    }
   ],
   "source": [
    "sns.countplot(df['Loan_Status'])\n",
    "print('The percentage of Y class : %.2f' % (df['Loan_Status'].value_counts()[0] / len(df)))\n",
    "print('The percentage of N class : %.2f' % (df['Loan_Status'].value_counts()[1] / len(df)))\n",
    "\n",
    "#there is almost balance we don't need to worry about that."
   ]
  },
  {
   "cell_type": "markdown",
   "id": "editorial-milton",
   "metadata": {
    "papermill": {
     "duration": 0.04552,
     "end_time": "2021-07-09T06:11:45.660410",
     "exception": false,
     "start_time": "2021-07-09T06:11:45.614890",
     "status": "completed"
    },
    "tags": []
   },
   "source": [
    "#  EDA"
   ]
  },
  {
   "cell_type": "code",
   "execution_count": 33,
   "id": "tested-excess",
   "metadata": {
    "execution": {
     "iopub.execute_input": "2021-07-09T06:11:45.760796Z",
     "iopub.status.busy": "2021-07-09T06:11:45.760176Z",
     "iopub.status.idle": "2021-07-09T06:11:45.762900Z",
     "shell.execute_reply": "2021-07-09T06:11:45.763301Z",
     "shell.execute_reply.started": "2021-07-01T11:23:58.160995Z"
    },
    "papermill": {
     "duration": 0.056885,
     "end_time": "2021-07-09T06:11:45.763468",
     "exception": false,
     "start_time": "2021-07-09T06:11:45.706583",
     "status": "completed"
    },
    "tags": []
   },
   "outputs": [],
   "source": [
    "df['Loan_Status'].replace('N',0,inplace=True)\n",
    "df['Loan_Status'].replace('Y',1,inplace=True)"
   ]
  },
  {
   "cell_type": "code",
   "execution_count": 34,
   "id": "primary-breeding",
   "metadata": {
    "execution": {
     "iopub.execute_input": "2021-07-09T06:11:45.863056Z",
     "iopub.status.busy": "2021-07-09T06:11:45.862362Z",
     "iopub.status.idle": "2021-07-09T06:11:46.191908Z",
     "shell.execute_reply": "2021-07-09T06:11:46.191467Z",
     "shell.execute_reply.started": "2021-07-01T11:23:58.171186Z"
    },
    "papermill": {
     "duration": 0.382062,
     "end_time": "2021-07-09T06:11:46.192041",
     "exception": false,
     "start_time": "2021-07-09T06:11:45.809979",
     "status": "completed"
    },
    "tags": []
   },
   "outputs": [
    {
     "data": {
      "text/plain": [
       "<seaborn.axisgrid.FacetGrid at 0x7f73e32b3e90>"
      ]
     },
     "execution_count": 34,
     "metadata": {},
     "output_type": "execute_result"
    },
    {
     "data": {
      "image/png": "[encoded data removed]",
      "text/plain": [
       "<Figure size 737.28x230.4 with 2 Axes>"
      ]
     },
     "metadata": {
      "needs_background": "light"
     },
     "output_type": "display_data"
    }
   ],
   "source": [
    "#Credit history vs loan status\n",
    "grid = sns.FacetGrid(df,col='Loan_Status', size=3.2, aspect=1.6)\n",
    "grid.map(sns.countplot, 'Credit_History')\n",
    "\n",
    "#people having credit history have easy time getting loan"
   ]
  },
  {
   "cell_type": "code",
   "execution_count": 35,
   "id": "rocky-signature",
   "metadata": {
    "execution": {
     "iopub.execute_input": "2021-07-09T06:11:46.308775Z",
     "iopub.status.busy": "2021-07-09T06:11:46.292638Z",
     "iopub.status.idle": "2021-07-09T06:11:46.388505Z",
     "shell.execute_reply": "2021-07-09T06:11:46.387919Z",
     "shell.execute_reply.started": "2021-07-01T11:23:58.515467Z"
    },
    "papermill": {
     "duration": 0.150151,
     "end_time": "2021-07-09T06:11:46.388637",
     "exception": false,
     "start_time": "2021-07-09T06:11:46.238486",
     "status": "completed"
    },
    "tags": []
   },
   "outputs": [
    {
     "data": {
      "text/plain": [
       "<AxesSubplot:xlabel='Gender', ylabel='count'>"
      ]
     },
     "execution_count": 35,
     "metadata": {},
     "output_type": "execute_result"
    },
    {
     "data": {
      "image/png": "[encoded data removed]",
      "text/plain": [
       "<Figure size 432x288 with 1 Axes>"
      ]
     },
     "metadata": {
      "needs_background": "light"
     },
     "output_type": "display_data"
    }
   ],
   "source": [
    "#Gender vs loan status\n",
    "sns.countplot(x ='Gender', data = df)\n"
   ]
  },
  {
   "cell_type": "code",
   "execution_count": 36,
   "id": "secret-citizen",
   "metadata": {
    "execution": {
     "iopub.execute_input": "2021-07-09T06:11:46.495242Z",
     "iopub.status.busy": "2021-07-09T06:11:46.494660Z",
     "iopub.status.idle": "2021-07-09T06:11:46.792731Z",
     "shell.execute_reply": "2021-07-09T06:11:46.793125Z",
     "shell.execute_reply.started": "2021-07-01T11:23:58.6382Z"
    },
    "papermill": {
     "duration": 0.35719,
     "end_time": "2021-07-09T06:11:46.793319",
     "exception": false,
     "start_time": "2021-07-09T06:11:46.436129",
     "status": "completed"
    },
    "tags": []
   },
   "outputs": [
    {
     "data": {
      "text/plain": [
       "<seaborn.axisgrid.FacetGrid at 0x7f73e02d1f50>"
      ]
     },
     "execution_count": 36,
     "metadata": {},
     "output_type": "execute_result"
    },
    {
     "data": {
      "image/png": "[encoded data removed]",
      "text/plain": [
       "<Figure size 737.28x230.4 with 2 Axes>"
      ]
     },
     "metadata": {
      "needs_background": "light"
     },
     "output_type": "display_data"
    }
   ],
   "source": [
    "grid = sns.FacetGrid(df,col='Gender', size=3.2, aspect=1.6)\n",
    "grid.map(sns.countplot, 'Loan_Status')\n",
    "\n",
    "# chances for getting loan for female is easier compared to male.\n",
    "#Loan status clearly depend upon the gender."
   ]
  },
  {
   "cell_type": "code",
   "execution_count": 37,
   "id": "tropical-newfoundland",
   "metadata": {
    "execution": {
     "iopub.execute_input": "2021-07-09T06:11:46.891909Z",
     "iopub.status.busy": "2021-07-09T06:11:46.891329Z",
     "iopub.status.idle": "2021-07-09T06:11:47.016240Z",
     "shell.execute_reply": "2021-07-09T06:11:47.016711Z",
     "shell.execute_reply.started": "2021-07-01T11:23:58.970236Z"
    },
    "papermill": {
     "duration": 0.175892,
     "end_time": "2021-07-09T06:11:47.016874",
     "exception": false,
     "start_time": "2021-07-09T06:11:46.840982",
     "status": "completed"
    },
    "tags": []
   },
   "outputs": [
    {
     "data": {
      "text/plain": [
       "<AxesSubplot:xlabel='Married', ylabel='count'>"
      ]
     },
     "execution_count": 37,
     "metadata": {},
     "output_type": "execute_result"
    },
    {
     "data": {
      "image/png": "[encoded data removed]",
      "text/plain": [
       "<Figure size 432x288 with 1 Axes>"
      ]
     },
     "metadata": {
      "needs_background": "light"
     },
     "output_type": "display_data"
    }
   ],
   "source": [
    "#Married vs loan status\n",
    "sns.countplot(x='Married', hue='Loan_Status', data=df)\n",
    "\n",
    "#people who are married have better chance at loan approval"
   ]
  },
  {
   "cell_type": "code",
   "execution_count": 38,
   "id": "modern-rendering",
   "metadata": {
    "execution": {
     "iopub.execute_input": "2021-07-09T06:11:47.117789Z",
     "iopub.status.busy": "2021-07-09T06:11:47.117181Z",
     "iopub.status.idle": "2021-07-09T06:11:47.538528Z",
     "shell.execute_reply": "2021-07-09T06:11:47.538031Z",
     "shell.execute_reply.started": "2021-07-01T11:23:59.13536Z"
    },
    "papermill": {
     "duration": 0.472748,
     "end_time": "2021-07-09T06:11:47.538665",
     "exception": false,
     "start_time": "2021-07-09T06:11:47.065917",
     "status": "completed"
    },
    "tags": []
   },
   "outputs": [
    {
     "data": {
      "text/plain": [
       "<seaborn.axisgrid.FacetGrid at 0x7f73e0142390>"
      ]
     },
     "execution_count": 38,
     "metadata": {},
     "output_type": "execute_result"
    },
    {
     "data": {
      "image/png": "[encoded data removed]",
      "text/plain": [
       "<Figure size 737.28x230.4 with 2 Axes>"
      ]
     },
     "metadata": {
      "needs_background": "light"
     },
     "output_type": "display_data"
    }
   ],
   "source": [
    "grid = sns.FacetGrid(df,col='Married', size=3.2, aspect=1.6)\n",
    "grid.map(sns.countplot, 'Loan_Status')"
   ]
  },
  {
   "cell_type": "code",
   "execution_count": 39,
   "id": "monetary-calculator",
   "metadata": {
    "execution": {
     "iopub.execute_input": "2021-07-09T06:11:47.645436Z",
     "iopub.status.busy": "2021-07-09T06:11:47.644772Z",
     "iopub.status.idle": "2021-07-09T06:11:47.782079Z",
     "shell.execute_reply": "2021-07-09T06:11:47.781610Z",
     "shell.execute_reply.started": "2021-07-01T11:23:59.45551Z"
    },
    "papermill": {
     "duration": 0.193383,
     "end_time": "2021-07-09T06:11:47.782221",
     "exception": false,
     "start_time": "2021-07-09T06:11:47.588838",
     "status": "completed"
    },
    "tags": []
   },
   "outputs": [
    {
     "data": {
      "text/plain": [
       "<AxesSubplot:xlabel='Dependents', ylabel='count'>"
      ]
     },
     "execution_count": 39,
     "metadata": {},
     "output_type": "execute_result"
    },
    {
     "data": {
      "image/png": "[encoded data removed]",
      "text/plain": [
       "<Figure size 432x288 with 1 Axes>"
      ]
     },
     "metadata": {
      "needs_background": "light"
     },
     "output_type": "display_data"
    }
   ],
   "source": [
    "#Dependents vs loan status\n",
    "\n",
    "#sns.barplot(x='Dependents', y='Loan_Status', data=df)\n",
    "sns.countplot(x=\"Dependents\", hue=\"Loan_Status\", data=df)"
   ]
  },
  {
   "cell_type": "code",
   "execution_count": 40,
   "id": "economic-video",
   "metadata": {
    "execution": {
     "iopub.execute_input": "2021-07-09T06:11:47.887999Z",
     "iopub.status.busy": "2021-07-09T06:11:47.887403Z",
     "iopub.status.idle": "2021-07-09T06:11:48.391983Z",
     "shell.execute_reply": "2021-07-09T06:11:48.392556Z",
     "shell.execute_reply.started": "2021-07-01T11:23:59.637076Z"
    },
    "papermill": {
     "duration": 0.560142,
     "end_time": "2021-07-09T06:11:48.392724",
     "exception": false,
     "start_time": "2021-07-09T06:11:47.832582",
     "status": "completed"
    },
    "tags": []
   },
   "outputs": [
    {
     "data": {
      "text/plain": [
       "<seaborn.axisgrid.FacetGrid at 0x7f73e0142250>"
      ]
     },
     "execution_count": 40,
     "metadata": {},
     "output_type": "execute_result"
    },
    {
     "data": {
      "image/png": "[encoded data removed]",
      "text/plain": [
       "<Figure size 1474.56x230.4 with 4 Axes>"
      ]
     },
     "metadata": {
      "needs_background": "light"
     },
     "output_type": "display_data"
    }
   ],
   "source": [
    "grid = sns.FacetGrid(df,col='Dependents', size=3.2, aspect=1.6)\n",
    "grid.map(sns.countplot, 'Loan_Status')"
   ]
  },
  {
   "cell_type": "code",
   "execution_count": 41,
   "id": "limiting-tension",
   "metadata": {
    "execution": {
     "iopub.execute_input": "2021-07-09T06:11:48.500579Z",
     "iopub.status.busy": "2021-07-09T06:11:48.499996Z",
     "iopub.status.idle": "2021-07-09T06:11:48.812895Z",
     "shell.execute_reply": "2021-07-09T06:11:48.813371Z",
     "shell.execute_reply.started": "2021-07-01T11:24:00.202795Z"
    },
    "papermill": {
     "duration": 0.369112,
     "end_time": "2021-07-09T06:11:48.813542",
     "exception": false,
     "start_time": "2021-07-09T06:11:48.444430",
     "status": "completed"
    },
    "tags": []
   },
   "outputs": [
    {
     "data": {
      "text/plain": [
       "<seaborn.axisgrid.FacetGrid at 0x7f73daf9e710>"
      ]
     },
     "execution_count": 41,
     "metadata": {},
     "output_type": "execute_result"
    },
    {
     "data": {
      "image/png": "[encoded data removed]",
      "text/plain": [
       "<Figure size 737.28x230.4 with 2 Axes>"
      ]
     },
     "metadata": {
      "needs_background": "light"
     },
     "output_type": "display_data"
    }
   ],
   "source": [
    "grid = sns.FacetGrid(df,col='Loan_Status', size=3.2, aspect=1.6)\n",
    "grid.map(sns.countplot, 'Dependents')\n",
    "\n",
    "#we should drop the dependents as it has no relation with loan status"
   ]
  },
  {
   "cell_type": "code",
   "execution_count": 42,
   "id": "still-alliance",
   "metadata": {
    "execution": {
     "iopub.execute_input": "2021-07-09T06:11:48.928174Z",
     "iopub.status.busy": "2021-07-09T06:11:48.927587Z",
     "iopub.status.idle": "2021-07-09T06:11:49.245862Z",
     "shell.execute_reply": "2021-07-09T06:11:49.246259Z",
     "shell.execute_reply.started": "2021-07-01T11:24:00.671692Z"
    },
    "papermill": {
     "duration": 0.373309,
     "end_time": "2021-07-09T06:11:49.246452",
     "exception": false,
     "start_time": "2021-07-09T06:11:48.873143",
     "status": "completed"
    },
    "tags": []
   },
   "outputs": [
    {
     "data": {
      "text/plain": [
       "<seaborn.axisgrid.FacetGrid at 0x7f73dafb81d0>"
      ]
     },
     "execution_count": 42,
     "metadata": {},
     "output_type": "execute_result"
    },
    {
     "data": {
      "image/png": "[encoded data removed]",
      "text/plain": [
       "<Figure size 737.28x230.4 with 2 Axes>"
      ]
     },
     "metadata": {
      "needs_background": "light"
     },
     "output_type": "display_data"
    }
   ],
   "source": [
    "#loan status vs Education\n",
    "grid = sns.FacetGrid(df,col='Education', size=3.2, aspect=1.6)\n",
    "grid.map(sns.countplot, 'Loan_Status')"
   ]
  },
  {
   "cell_type": "code",
   "execution_count": 43,
   "id": "recognized-namibia",
   "metadata": {
    "execution": {
     "iopub.execute_input": "2021-07-09T06:11:49.361189Z",
     "iopub.status.busy": "2021-07-09T06:11:49.360654Z",
     "iopub.status.idle": "2021-07-09T06:11:49.492412Z",
     "shell.execute_reply": "2021-07-09T06:11:49.491931Z",
     "shell.execute_reply.started": "2021-07-01T11:24:00.983965Z"
    },
    "papermill": {
     "duration": 0.193042,
     "end_time": "2021-07-09T06:11:49.492554",
     "exception": false,
     "start_time": "2021-07-09T06:11:49.299512",
     "status": "completed"
    },
    "tags": []
   },
   "outputs": [
    {
     "data": {
      "text/plain": [
       "<AxesSubplot:xlabel='Education', ylabel='count'>"
      ]
     },
     "execution_count": 43,
     "metadata": {},
     "output_type": "execute_result"
    },
    {
     "data": {
      "image/png": "[encoded data removed]",
      "text/plain": [
       "<Figure size 432x288 with 1 Axes>"
      ]
     },
     "metadata": {
      "needs_background": "light"
     },
     "output_type": "display_data"
    }
   ],
   "source": [
    "sns.countplot(x=\"Education\", hue=\"Loan_Status\", data=df)\n",
    "#in both situation people ae getting the loan but people who are graduate are getting loan easier compared to other."
   ]
  },
  {
   "cell_type": "code",
   "execution_count": 44,
   "id": "specific-school",
   "metadata": {
    "execution": {
     "iopub.execute_input": "2021-07-09T06:11:49.606120Z",
     "iopub.status.busy": "2021-07-09T06:11:49.605577Z",
     "iopub.status.idle": "2021-07-09T06:11:49.924499Z",
     "shell.execute_reply": "2021-07-09T06:11:49.923932Z",
     "shell.execute_reply.started": "2021-07-01T11:24:01.14857Z"
    },
    "papermill": {
     "duration": 0.377596,
     "end_time": "2021-07-09T06:11:49.924640",
     "exception": false,
     "start_time": "2021-07-09T06:11:49.547044",
     "status": "completed"
    },
    "tags": []
   },
   "outputs": [
    {
     "data": {
      "text/plain": [
       "<seaborn.axisgrid.FacetGrid at 0x7f73dae33310>"
      ]
     },
     "execution_count": 44,
     "metadata": {},
     "output_type": "execute_result"
    },
    {
     "data": {
      "image/png": "[encoded data removed]",
      "text/plain": [
       "<Figure size 737.28x230.4 with 2 Axes>"
      ]
     },
     "metadata": {
      "needs_background": "light"
     },
     "output_type": "display_data"
    }
   ],
   "source": [
    "#Self_Employed vs Education\n",
    "grid = sns.FacetGrid(df,col='Loan_Status', size=3.2, aspect=1.6)\n",
    "grid.map(sns.countplot, 'Self_Employed')\n",
    "\n",
    "#people having job got loan easily"
   ]
  },
  {
   "cell_type": "code",
   "execution_count": 45,
   "id": "interim-voice",
   "metadata": {
    "execution": {
     "iopub.execute_input": "2021-07-09T06:11:50.040641Z",
     "iopub.status.busy": "2021-07-09T06:11:50.039630Z",
     "iopub.status.idle": "2021-07-09T06:11:50.371622Z",
     "shell.execute_reply": "2021-07-09T06:11:50.370963Z",
     "shell.execute_reply.started": "2021-07-01T11:24:01.483723Z"
    },
    "papermill": {
     "duration": 0.390358,
     "end_time": "2021-07-09T06:11:50.371763",
     "exception": false,
     "start_time": "2021-07-09T06:11:49.981405",
     "status": "completed"
    },
    "tags": []
   },
   "outputs": [
    {
     "data": {
      "text/plain": [
       "<seaborn.axisgrid.FacetGrid at 0x7f73dad07250>"
      ]
     },
     "execution_count": 45,
     "metadata": {},
     "output_type": "execute_result"
    },
    {
     "data": {
      "image/png": "[encoded data removed]",
      "text/plain": [
       "<Figure size 737.28x230.4 with 2 Axes>"
      ]
     },
     "metadata": {
      "needs_background": "light"
     },
     "output_type": "display_data"
    }
   ],
   "source": [
    "grid = sns.FacetGrid(df,col='Loan_Status', size=3.2, aspect=1.6)\n",
    "grid.map(sns.countplot, 'Property_Area')"
   ]
  },
  {
   "cell_type": "code",
   "execution_count": 46,
   "id": "coastal-mentor",
   "metadata": {
    "execution": {
     "iopub.execute_input": "2021-07-09T06:11:50.537356Z",
     "iopub.status.busy": "2021-07-09T06:11:50.520062Z",
     "iopub.status.idle": "2021-07-09T06:11:50.914932Z",
     "shell.execute_reply": "2021-07-09T06:11:50.914486Z",
     "shell.execute_reply.started": "2021-07-01T11:24:01.90088Z"
    },
    "papermill": {
     "duration": 0.487888,
     "end_time": "2021-07-09T06:11:50.915062",
     "exception": false,
     "start_time": "2021-07-09T06:11:50.427174",
     "status": "completed"
    },
    "tags": []
   },
   "outputs": [
    {
     "data": {
      "text/plain": [
       "<seaborn.axisgrid.FacetGrid at 0x7f73dab7df10>"
      ]
     },
     "execution_count": 46,
     "metadata": {},
     "output_type": "execute_result"
    },
    {
     "data": {
      "image/png": "[encoded data removed]",
      "text/plain": [
       "<Figure size 1105.92x230.4 with 3 Axes>"
      ]
     },
     "metadata": {
      "needs_background": "light"
     },
     "output_type": "display_data"
    }
   ],
   "source": [
    "grid = sns.FacetGrid(df,col='Property_Area', size=3.2, aspect=1.6)\n",
    "grid.map(sns.countplot, 'Loan_Status')\n",
    "\n",
    "# property area has impact on loan status"
   ]
  },
  {
   "cell_type": "code",
   "execution_count": 47,
   "id": "southwest-concert",
   "metadata": {
    "execution": {
     "iopub.execute_input": "2021-07-09T06:11:51.048921Z",
     "iopub.status.busy": "2021-07-09T06:11:51.048034Z",
     "iopub.status.idle": "2021-07-09T06:11:51.052158Z",
     "shell.execute_reply": "2021-07-09T06:11:51.051611Z",
     "shell.execute_reply.started": "2021-07-01T11:24:02.392847Z"
    },
    "papermill": {
     "duration": 0.081065,
     "end_time": "2021-07-09T06:11:51.052307",
     "exception": false,
     "start_time": "2021-07-09T06:11:50.971242",
     "status": "completed"
    },
    "tags": []
   },
   "outputs": [
    {
     "data": {
      "text/html": [
       "<div>\n",
       "<style scoped>\n",
       "    .dataframe tbody tr th:only-of-type {\n",
       "        vertical-align: middle;\n",
       "    }\n",
       "\n",
       "    .dataframe tbody tr th {\n",
       "        vertical-align: top;\n",
       "    }\n",
       "\n",
       "    .dataframe thead th {\n",
       "        text-align: right;\n",
       "    }\n",
       "</style>\n",
       "<table border=\"1\" class=\"dataframe\">\n",
       "  <thead>\n",
       "    <tr style=\"text-align: right;\">\n",
       "      <th></th>\n",
       "      <th>Loan_ID</th>\n",
       "      <th>Gender</th>\n",
       "      <th>Married</th>\n",
       "      <th>Dependents</th>\n",
       "      <th>Education</th>\n",
       "      <th>Self_Employed</th>\n",
       "      <th>ApplicantIncome</th>\n",
       "      <th>CoapplicantIncome</th>\n",
       "      <th>LoanAmount</th>\n",
       "      <th>Loan_Amount_Term</th>\n",
       "      <th>Credit_History</th>\n",
       "      <th>Property_Area</th>\n",
       "      <th>Loan_Status</th>\n",
       "      <th>Total_Income</th>\n",
       "    </tr>\n",
       "  </thead>\n",
       "  <tbody>\n",
       "    <tr>\n",
       "      <th>0</th>\n",
       "      <td>LP001002</td>\n",
       "      <td>Male</td>\n",
       "      <td>No</td>\n",
       "      <td>0</td>\n",
       "      <td>Graduate</td>\n",
       "      <td>No</td>\n",
       "      <td>5849</td>\n",
       "      <td>0.0</td>\n",
       "      <td>128.0</td>\n",
       "      <td>360.0</td>\n",
       "      <td>1.0</td>\n",
       "      <td>Urban</td>\n",
       "      <td>1</td>\n",
       "      <td>5849.0</td>\n",
       "    </tr>\n",
       "    <tr>\n",
       "      <th>1</th>\n",
       "      <td>LP001003</td>\n",
       "      <td>Male</td>\n",
       "      <td>Yes</td>\n",
       "      <td>1</td>\n",
       "      <td>Graduate</td>\n",
       "      <td>No</td>\n",
       "      <td>4583</td>\n",
       "      <td>1508.0</td>\n",
       "      <td>128.0</td>\n",
       "      <td>360.0</td>\n",
       "      <td>1.0</td>\n",
       "      <td>Rural</td>\n",
       "      <td>0</td>\n",
       "      <td>6091.0</td>\n",
       "    </tr>\n",
       "    <tr>\n",
       "      <th>2</th>\n",
       "      <td>LP001005</td>\n",
       "      <td>Male</td>\n",
       "      <td>Yes</td>\n",
       "      <td>0</td>\n",
       "      <td>Graduate</td>\n",
       "      <td>Yes</td>\n",
       "      <td>3000</td>\n",
       "      <td>0.0</td>\n",
       "      <td>66.0</td>\n",
       "      <td>360.0</td>\n",
       "      <td>1.0</td>\n",
       "      <td>Urban</td>\n",
       "      <td>1</td>\n",
       "      <td>3000.0</td>\n",
       "    </tr>\n",
       "    <tr>\n",
       "      <th>3</th>\n",
       "      <td>LP001006</td>\n",
       "      <td>Male</td>\n",
       "      <td>Yes</td>\n",
       "      <td>0</td>\n",
       "      <td>Not Graduate</td>\n",
       "      <td>No</td>\n",
       "      <td>2583</td>\n",
       "      <td>2358.0</td>\n",
       "      <td>120.0</td>\n",
       "      <td>360.0</td>\n",
       "      <td>1.0</td>\n",
       "      <td>Urban</td>\n",
       "      <td>1</td>\n",
       "      <td>4941.0</td>\n",
       "    </tr>\n",
       "    <tr>\n",
       "      <th>4</th>\n",
       "      <td>LP001008</td>\n",
       "      <td>Male</td>\n",
       "      <td>No</td>\n",
       "      <td>0</td>\n",
       "      <td>Graduate</td>\n",
       "      <td>No</td>\n",
       "      <td>6000</td>\n",
       "      <td>0.0</td>\n",
       "      <td>141.0</td>\n",
       "      <td>360.0</td>\n",
       "      <td>1.0</td>\n",
       "      <td>Urban</td>\n",
       "      <td>1</td>\n",
       "      <td>6000.0</td>\n",
       "    </tr>\n",
       "  </tbody>\n",
       "</table>\n",
       "</div>"
      ],
      "text/plain": [
       "    Loan_ID Gender Married Dependents     Education Self_Employed  \\\n",
       "0  LP001002   Male      No          0      Graduate            No   \n",
       "1  LP001003   Male     Yes          1      Graduate            No   \n",
       "2  LP001005   Male     Yes          0      Graduate           Yes   \n",
       "3  LP001006   Male     Yes          0  Not Graduate            No   \n",
       "4  LP001008   Male      No          0      Graduate            No   \n",
       "\n",
       "   ApplicantIncome  CoapplicantIncome  LoanAmount  Loan_Amount_Term  \\\n",
       "0             5849                0.0       128.0             360.0   \n",
       "1             4583             1508.0       128.0             360.0   \n",
       "2             3000                0.0        66.0             360.0   \n",
       "3             2583             2358.0       120.0             360.0   \n",
       "4             6000                0.0       141.0             360.0   \n",
       "\n",
       "   Credit_History Property_Area  Loan_Status  Total_Income  \n",
       "0             1.0         Urban            1        5849.0  \n",
       "1             1.0         Rural            0        6091.0  \n",
       "2             1.0         Urban            1        3000.0  \n",
       "3             1.0         Urban            1        4941.0  \n",
       "4             1.0         Urban            1        6000.0  "
      ]
     },
     "execution_count": 47,
     "metadata": {},
     "output_type": "execute_result"
    }
   ],
   "source": [
    "df['Total_Income'] = df['ApplicantIncome'] + df['CoapplicantIncome']\n",
    "df.head()"
   ]
  },
  {
   "cell_type": "code",
   "execution_count": 48,
   "id": "healthy-atlanta",
   "metadata": {
    "execution": {
     "iopub.execute_input": "2021-07-09T06:11:51.170609Z",
     "iopub.status.busy": "2021-07-09T06:11:51.169698Z",
     "iopub.status.idle": "2021-07-09T06:11:51.314586Z",
     "shell.execute_reply": "2021-07-09T06:11:51.313987Z",
     "shell.execute_reply.started": "2021-07-01T11:24:02.419524Z"
    },
    "papermill": {
     "duration": 0.205787,
     "end_time": "2021-07-09T06:11:51.314719",
     "exception": false,
     "start_time": "2021-07-09T06:11:51.108932",
     "status": "completed"
    },
    "tags": []
   },
   "outputs": [
    {
     "data": {
      "text/plain": [
       "<AxesSubplot:xlabel='Loan_Status', ylabel='Total_Income'>"
      ]
     },
     "execution_count": 48,
     "metadata": {},
     "output_type": "execute_result"
    },
    {
     "data": {
      "image/png": "[encoded data removed]",
      "text/plain": [
       "<Figure size 576x720 with 1 Axes>"
      ]
     },
     "metadata": {
      "needs_background": "light"
     },
     "output_type": "display_data"
    }
   ],
   "source": [
    "plt.figure(figsize=(8,10))\n",
    "sns.boxplot(x=\"Loan_Status\",y=\"Total_Income\", data=df)"
   ]
  },
  {
   "cell_type": "code",
   "execution_count": 49,
   "id": "enabling-pioneer",
   "metadata": {
    "execution": {
     "iopub.execute_input": "2021-07-09T06:11:51.434939Z",
     "iopub.status.busy": "2021-07-09T06:11:51.434377Z",
     "iopub.status.idle": "2021-07-09T06:11:51.438707Z",
     "shell.execute_reply": "2021-07-09T06:11:51.438081Z",
     "shell.execute_reply.started": "2021-07-01T11:24:02.595785Z"
    },
    "papermill": {
     "duration": 0.066978,
     "end_time": "2021-07-09T06:11:51.438855",
     "exception": false,
     "start_time": "2021-07-09T06:11:51.371877",
     "status": "completed"
    },
    "tags": []
   },
   "outputs": [
    {
     "data": {
      "text/plain": [
       "array([360., 120., 240., 180.,  60., 300., 480.,  36.,  84.,  12.])"
      ]
     },
     "execution_count": 49,
     "metadata": {},
     "output_type": "execute_result"
    }
   ],
   "source": [
    "df['Loan_Amount_Term'].unique()"
   ]
  },
  {
   "cell_type": "code",
   "execution_count": 50,
   "id": "distinct-support",
   "metadata": {
    "execution": {
     "iopub.execute_input": "2021-07-09T06:11:51.564162Z",
     "iopub.status.busy": "2021-07-09T06:11:51.562591Z",
     "iopub.status.idle": "2021-07-09T06:11:51.806813Z",
     "shell.execute_reply": "2021-07-09T06:11:51.807236Z",
     "shell.execute_reply.started": "2021-07-01T11:24:02.607604Z"
    },
    "papermill": {
     "duration": 0.310929,
     "end_time": "2021-07-09T06:11:51.807430",
     "exception": false,
     "start_time": "2021-07-09T06:11:51.496501",
     "status": "completed"
    },
    "tags": []
   },
   "outputs": [
    {
     "data": {
      "text/plain": [
       "<AxesSubplot:xlabel='Loan_Amount_Term', ylabel='count'>"
      ]
     },
     "execution_count": 50,
     "metadata": {},
     "output_type": "execute_result"
    },
    {
     "data": {
      "image/png": "[encoded data removed]",
      "text/plain": [
       "<Figure size 1080x1080 with 1 Axes>"
      ]
     },
     "metadata": {
      "needs_background": "light"
     },
     "output_type": "display_data"
    }
   ],
   "source": [
    "plt.figure(figsize=(15,15))\n",
    "sns.countplot(x=\"Loan_Amount_Term\", hue=\"Loan_Status\", data=df)\n",
    "#no patter"
   ]
  },
  {
   "cell_type": "code",
   "execution_count": 51,
   "id": "applicable-singles",
   "metadata": {
    "execution": {
     "iopub.execute_input": "2021-07-09T06:11:51.958775Z",
     "iopub.status.busy": "2021-07-09T06:11:51.957975Z",
     "iopub.status.idle": "2021-07-09T06:11:51.964723Z",
     "shell.execute_reply": "2021-07-09T06:11:51.965150Z",
     "shell.execute_reply.started": "2021-07-01T11:24:02.914376Z"
    },
    "papermill": {
     "duration": 0.085445,
     "end_time": "2021-07-09T06:11:51.965344",
     "exception": false,
     "start_time": "2021-07-09T06:11:51.879899",
     "status": "completed"
    },
    "tags": []
   },
   "outputs": [
    {
     "data": {
      "text/plain": [
       "array([128.,  66., 120., 141., 267.,  95., 158., 168., 349.,  70., 109.,\n",
       "       200., 114.,  17., 125., 100.,  76., 133., 115., 104., 315., 116.,\n",
       "       112., 151., 191., 122., 110.,  35., 201.,  74., 106., 320., 144.,\n",
       "       184.,  80.,  47.,  75., 134.,  96.,  88.,  44., 286.,  97., 135.,\n",
       "       180.,  99., 165., 258., 126., 312., 136., 172.,  81., 187., 113.,\n",
       "       176., 130., 111., 167., 265.,  50., 210., 175., 131., 188.,  25.,\n",
       "       137., 160., 225., 216.,  94., 139., 152., 118., 185., 154.,  85.,\n",
       "       259., 194.,  93., 370., 182., 650., 102., 290.,  84., 242., 129.,\n",
       "        30., 244., 600., 255.,  98., 275., 121.,  63., 700.,  87., 101.,\n",
       "       495.,  67.,  73., 260., 108.,  58.,  48., 164., 170.,  83.,  90.,\n",
       "       166., 124.,  55.,  59., 127., 214., 240.,  72.,  60., 138.,  42.,\n",
       "       280., 140., 155., 123., 279., 192., 304., 330., 150., 207., 436.,\n",
       "        78.,  54.,  89., 143., 105., 132., 480.,  56., 159., 300., 376.,\n",
       "       117.,  71., 490., 173.,  46., 228., 308., 236., 570., 380., 296.,\n",
       "       156., 103.,  45.,  65.,  53., 360.,  62., 218., 178., 239., 405.,\n",
       "       148., 190., 149., 153., 162., 230.,  86., 234., 246., 500., 186.,\n",
       "       119., 107., 209., 208., 243.,  40., 250., 311., 400., 161., 196.,\n",
       "       324., 157., 145., 181.,  26., 211.,   9., 205.,  36.,  61., 146.,\n",
       "       292., 142., 350., 496., 253.])"
      ]
     },
     "execution_count": 51,
     "metadata": {},
     "output_type": "execute_result"
    }
   ],
   "source": [
    "df['LoanAmount'].unique()"
   ]
  },
  {
   "cell_type": "code",
   "execution_count": 52,
   "id": "medium-injury",
   "metadata": {
    "execution": {
     "iopub.execute_input": "2021-07-09T06:11:52.090570Z",
     "iopub.status.busy": "2021-07-09T06:11:52.089950Z",
     "iopub.status.idle": "2021-07-09T06:11:52.230248Z",
     "shell.execute_reply": "2021-07-09T06:11:52.229721Z",
     "shell.execute_reply.started": "2021-07-01T11:24:02.9299Z"
    },
    "papermill": {
     "duration": 0.204611,
     "end_time": "2021-07-09T06:11:52.230427",
     "exception": false,
     "start_time": "2021-07-09T06:11:52.025816",
     "status": "completed"
    },
    "tags": []
   },
   "outputs": [
    {
     "data": {
      "text/plain": [
       "<AxesSubplot:xlabel='Loan_Status', ylabel='LoanAmount'>"
      ]
     },
     "execution_count": 52,
     "metadata": {},
     "output_type": "execute_result"
    },
    {
     "data": {
      "image/png": "[encoded data removed]",
      "text/plain": [
       "<Figure size 576x720 with 1 Axes>"
      ]
     },
     "metadata": {
      "needs_background": "light"
     },
     "output_type": "display_data"
    }
   ],
   "source": [
    "plt.figure(figsize=(8,10))\n",
    "sns.boxplot(x=\"Loan_Status\",y=\"LoanAmount\", data=df)\n",
    "#no pattern"
   ]
  },
  {
   "cell_type": "markdown",
   "id": "electronic-northeast",
   "metadata": {
    "papermill": {
     "duration": 0.061693,
     "end_time": "2021-07-09T06:11:52.354032",
     "exception": false,
     "start_time": "2021-07-09T06:11:52.292339",
     "status": "completed"
    },
    "tags": []
   },
   "source": [
    "# Drop featrues which has no use"
   ]
  },
  {
   "cell_type": "code",
   "execution_count": 53,
   "id": "artificial-devices",
   "metadata": {
    "execution": {
     "iopub.execute_input": "2021-07-09T06:11:52.490329Z",
     "iopub.status.busy": "2021-07-09T06:11:52.489654Z",
     "iopub.status.idle": "2021-07-09T06:11:52.493743Z",
     "shell.execute_reply": "2021-07-09T06:11:52.493136Z",
     "shell.execute_reply.started": "2021-07-01T11:24:03.103543Z"
    },
    "papermill": {
     "duration": 0.079055,
     "end_time": "2021-07-09T06:11:52.493882",
     "exception": false,
     "start_time": "2021-07-09T06:11:52.414827",
     "status": "completed"
    },
    "tags": []
   },
   "outputs": [
    {
     "data": {
      "text/html": [
       "<div>\n",
       "<style scoped>\n",
       "    .dataframe tbody tr th:only-of-type {\n",
       "        vertical-align: middle;\n",
       "    }\n",
       "\n",
       "    .dataframe tbody tr th {\n",
       "        vertical-align: top;\n",
       "    }\n",
       "\n",
       "    .dataframe thead th {\n",
       "        text-align: right;\n",
       "    }\n",
       "</style>\n",
       "<table border=\"1\" class=\"dataframe\">\n",
       "  <thead>\n",
       "    <tr style=\"text-align: right;\">\n",
       "      <th></th>\n",
       "      <th>Gender</th>\n",
       "      <th>Married</th>\n",
       "      <th>Education</th>\n",
       "      <th>Self_Employed</th>\n",
       "      <th>Credit_History</th>\n",
       "      <th>Property_Area</th>\n",
       "      <th>Loan_Status</th>\n",
       "    </tr>\n",
       "  </thead>\n",
       "  <tbody>\n",
       "    <tr>\n",
       "      <th>0</th>\n",
       "      <td>Male</td>\n",
       "      <td>No</td>\n",
       "      <td>Graduate</td>\n",
       "      <td>No</td>\n",
       "      <td>1.0</td>\n",
       "      <td>Urban</td>\n",
       "      <td>1</td>\n",
       "    </tr>\n",
       "    <tr>\n",
       "      <th>1</th>\n",
       "      <td>Male</td>\n",
       "      <td>Yes</td>\n",
       "      <td>Graduate</td>\n",
       "      <td>No</td>\n",
       "      <td>1.0</td>\n",
       "      <td>Rural</td>\n",
       "      <td>0</td>\n",
       "    </tr>\n",
       "    <tr>\n",
       "      <th>2</th>\n",
       "      <td>Male</td>\n",
       "      <td>Yes</td>\n",
       "      <td>Graduate</td>\n",
       "      <td>Yes</td>\n",
       "      <td>1.0</td>\n",
       "      <td>Urban</td>\n",
       "      <td>1</td>\n",
       "    </tr>\n",
       "    <tr>\n",
       "      <th>3</th>\n",
       "      <td>Male</td>\n",
       "      <td>Yes</td>\n",
       "      <td>Not Graduate</td>\n",
       "      <td>No</td>\n",
       "      <td>1.0</td>\n",
       "      <td>Urban</td>\n",
       "      <td>1</td>\n",
       "    </tr>\n",
       "    <tr>\n",
       "      <th>4</th>\n",
       "      <td>Male</td>\n",
       "      <td>No</td>\n",
       "      <td>Graduate</td>\n",
       "      <td>No</td>\n",
       "      <td>1.0</td>\n",
       "      <td>Urban</td>\n",
       "      <td>1</td>\n",
       "    </tr>\n",
       "  </tbody>\n",
       "</table>\n",
       "</div>"
      ],
      "text/plain": [
       "  Gender Married     Education Self_Employed  Credit_History Property_Area  \\\n",
       "0   Male      No      Graduate            No             1.0         Urban   \n",
       "1   Male     Yes      Graduate            No             1.0         Rural   \n",
       "2   Male     Yes      Graduate           Yes             1.0         Urban   \n",
       "3   Male     Yes  Not Graduate            No             1.0         Urban   \n",
       "4   Male      No      Graduate            No             1.0         Urban   \n",
       "\n",
       "   Loan_Status  \n",
       "0            1  \n",
       "1            0  \n",
       "2            1  \n",
       "3            1  \n",
       "4            1  "
      ]
     },
     "execution_count": 53,
     "metadata": {},
     "output_type": "execute_result"
    }
   ],
   "source": [
    "cols = ['ApplicantIncome', 'CoapplicantIncome', \"LoanAmount\", \"Loan_Amount_Term\", \"Total_Income\", 'Loan_ID', 'CoapplicantIncome', 'Dependents']\n",
    "df = df.drop(columns=cols, axis=1)\n",
    "df.head()"
   ]
  },
  {
   "cell_type": "markdown",
   "id": "domestic-fundamental",
   "metadata": {
    "papermill": {
     "duration": 0.060089,
     "end_time": "2021-07-09T06:11:52.616275",
     "exception": false,
     "start_time": "2021-07-09T06:11:52.556186",
     "status": "completed"
    },
    "tags": []
   },
   "source": [
    "# Label Encoding for categorical"
   ]
  },
  {
   "cell_type": "code",
   "execution_count": 54,
   "id": "sustainable-punishment",
   "metadata": {
    "execution": {
     "iopub.execute_input": "2021-07-09T06:11:52.745470Z",
     "iopub.status.busy": "2021-07-09T06:11:52.744879Z",
     "iopub.status.idle": "2021-07-09T06:11:52.747761Z",
     "shell.execute_reply": "2021-07-09T06:11:52.747342Z",
     "shell.execute_reply.started": "2021-07-01T11:24:03.126397Z"
    },
    "papermill": {
     "duration": 0.071059,
     "end_time": "2021-07-09T06:11:52.747889",
     "exception": false,
     "start_time": "2021-07-09T06:11:52.676830",
     "status": "completed"
    },
    "tags": []
   },
   "outputs": [],
   "source": [
    "from sklearn.preprocessing import LabelEncoder\n",
    "cols = ['Gender',\"Married\",\"Education\",'Self_Employed',\"Property_Area\"]\n",
    "le = LabelEncoder()\n",
    "for col in cols:\n",
    "    df[col] = le.fit_transform(df[col])\n"
   ]
  },
  {
   "cell_type": "code",
   "execution_count": 55,
   "id": "practical-commander",
   "metadata": {
    "execution": {
     "iopub.execute_input": "2021-07-09T06:11:52.880486Z",
     "iopub.status.busy": "2021-07-09T06:11:52.879555Z",
     "iopub.status.idle": "2021-07-09T06:11:52.883425Z",
     "shell.execute_reply": "2021-07-09T06:11:52.883823Z",
     "shell.execute_reply.started": "2021-07-01T11:24:03.140804Z"
    },
    "papermill": {
     "duration": 0.075153,
     "end_time": "2021-07-09T06:11:52.883985",
     "exception": false,
     "start_time": "2021-07-09T06:11:52.808832",
     "status": "completed"
    },
    "tags": []
   },
   "outputs": [
    {
     "data": {
      "text/html": [
       "<div>\n",
       "<style scoped>\n",
       "    .dataframe tbody tr th:only-of-type {\n",
       "        vertical-align: middle;\n",
       "    }\n",
       "\n",
       "    .dataframe tbody tr th {\n",
       "        vertical-align: top;\n",
       "    }\n",
       "\n",
       "    .dataframe thead th {\n",
       "        text-align: right;\n",
       "    }\n",
       "</style>\n",
       "<table border=\"1\" class=\"dataframe\">\n",
       "  <thead>\n",
       "    <tr style=\"text-align: right;\">\n",
       "      <th></th>\n",
       "      <th>Gender</th>\n",
       "      <th>Married</th>\n",
       "      <th>Education</th>\n",
       "      <th>Self_Employed</th>\n",
       "      <th>Credit_History</th>\n",
       "      <th>Property_Area</th>\n",
       "      <th>Loan_Status</th>\n",
       "    </tr>\n",
       "  </thead>\n",
       "  <tbody>\n",
       "    <tr>\n",
       "      <th>0</th>\n",
       "      <td>1</td>\n",
       "      <td>0</td>\n",
       "      <td>0</td>\n",
       "      <td>0</td>\n",
       "      <td>1.0</td>\n",
       "      <td>2</td>\n",
       "      <td>1</td>\n",
       "    </tr>\n",
       "    <tr>\n",
       "      <th>1</th>\n",
       "      <td>1</td>\n",
       "      <td>1</td>\n",
       "      <td>0</td>\n",
       "      <td>0</td>\n",
       "      <td>1.0</td>\n",
       "      <td>0</td>\n",
       "      <td>0</td>\n",
       "    </tr>\n",
       "    <tr>\n",
       "      <th>2</th>\n",
       "      <td>1</td>\n",
       "      <td>1</td>\n",
       "      <td>0</td>\n",
       "      <td>1</td>\n",
       "      <td>1.0</td>\n",
       "      <td>2</td>\n",
       "      <td>1</td>\n",
       "    </tr>\n",
       "    <tr>\n",
       "      <th>3</th>\n",
       "      <td>1</td>\n",
       "      <td>1</td>\n",
       "      <td>1</td>\n",
       "      <td>0</td>\n",
       "      <td>1.0</td>\n",
       "      <td>2</td>\n",
       "      <td>1</td>\n",
       "    </tr>\n",
       "    <tr>\n",
       "      <th>4</th>\n",
       "      <td>1</td>\n",
       "      <td>0</td>\n",
       "      <td>0</td>\n",
       "      <td>0</td>\n",
       "      <td>1.0</td>\n",
       "      <td>2</td>\n",
       "      <td>1</td>\n",
       "    </tr>\n",
       "  </tbody>\n",
       "</table>\n",
       "</div>"
      ],
      "text/plain": [
       "   Gender  Married  Education  Self_Employed  Credit_History  Property_Area  \\\n",
       "0       1        0          0              0             1.0              2   \n",
       "1       1        1          0              0             1.0              0   \n",
       "2       1        1          0              1             1.0              2   \n",
       "3       1        1          1              0             1.0              2   \n",
       "4       1        0          0              0             1.0              2   \n",
       "\n",
       "   Loan_Status  \n",
       "0            1  \n",
       "1            0  \n",
       "2            1  \n",
       "3            1  \n",
       "4            1  "
      ]
     },
     "execution_count": 55,
     "metadata": {},
     "output_type": "execute_result"
    }
   ],
   "source": [
    "df.head()"
   ]
  },
  {
   "cell_type": "code",
   "execution_count": 56,
   "id": "instant-sunday",
   "metadata": {
    "execution": {
     "iopub.execute_input": "2021-07-09T06:11:53.013759Z",
     "iopub.status.busy": "2021-07-09T06:11:53.012855Z",
     "iopub.status.idle": "2021-07-09T06:11:53.015989Z",
     "shell.execute_reply": "2021-07-09T06:11:53.015539Z",
     "shell.execute_reply.started": "2021-07-01T11:24:03.15955Z"
    },
    "papermill": {
     "duration": 0.070751,
     "end_time": "2021-07-09T06:11:53.016123",
     "exception": false,
     "start_time": "2021-07-09T06:11:52.945372",
     "status": "completed"
    },
    "tags": []
   },
   "outputs": [],
   "source": [
    "# specify input and output attributes\n",
    "X = df.drop(columns=['Loan_Status'], axis=1)\n",
    "y = df['Loan_Status']"
   ]
  },
  {
   "cell_type": "code",
   "execution_count": 57,
   "id": "bottom-congo",
   "metadata": {
    "execution": {
     "iopub.execute_input": "2021-07-09T06:11:53.144020Z",
     "iopub.status.busy": "2021-07-09T06:11:53.143435Z",
     "iopub.status.idle": "2021-07-09T06:11:53.146134Z",
     "shell.execute_reply": "2021-07-09T06:11:53.146578Z",
     "shell.execute_reply.started": "2021-07-01T11:24:03.17862Z"
    },
    "papermill": {
     "duration": 0.070249,
     "end_time": "2021-07-09T06:11:53.146767",
     "exception": false,
     "start_time": "2021-07-09T06:11:53.076518",
     "status": "completed"
    },
    "tags": []
   },
   "outputs": [],
   "source": [
    "from sklearn.model_selection import train_test_split\n",
    "x_train, x_test, y_train, y_test = train_test_split(X, y, test_size=0.25, random_state=42)"
   ]
  },
  {
   "cell_type": "code",
   "execution_count": 58,
   "id": "multiple-battle",
   "metadata": {
    "execution": {
     "iopub.execute_input": "2021-07-09T06:11:53.276843Z",
     "iopub.status.busy": "2021-07-09T06:11:53.276221Z",
     "iopub.status.idle": "2021-07-09T06:11:53.279244Z",
     "shell.execute_reply": "2021-07-09T06:11:53.278774Z",
     "shell.execute_reply.started": "2021-07-01T11:24:03.195666Z"
    },
    "papermill": {
     "duration": 0.071697,
     "end_time": "2021-07-09T06:11:53.279399",
     "exception": false,
     "start_time": "2021-07-09T06:11:53.207702",
     "status": "completed"
    },
    "tags": []
   },
   "outputs": [],
   "source": [
    "# classify function\n",
    "from sklearn.model_selection import cross_val_score\n",
    "def classify(model, x, y):\n",
    "    x_train, x_test, y_train, y_test = train_test_split(X, y, test_size=0.25, random_state=42)\n",
    "    model.fit(x_train, y_train)\n",
    "    print(\"Accuracy is\", model.score(x_test, y_test)*100)\n",
    "    # cross validation - it is used for better validation of model\n",
    "    # eg: cv-5, train-4, test-1\n",
    "    score = cross_val_score(model, x, y, cv=5)\n",
    "    print(\"Cross validation is\",np.mean(score)*100)"
   ]
  },
  {
   "cell_type": "code",
   "execution_count": 59,
   "id": "industrial-milwaukee",
   "metadata": {
    "execution": {
     "iopub.execute_input": "2021-07-09T06:11:53.408974Z",
     "iopub.status.busy": "2021-07-09T06:11:53.408046Z",
     "iopub.status.idle": "2021-07-09T06:11:53.470749Z",
     "shell.execute_reply": "2021-07-09T06:11:53.471229Z",
     "shell.execute_reply.started": "2021-07-01T11:24:03.209682Z"
    },
    "papermill": {
     "duration": 0.131418,
     "end_time": "2021-07-09T06:11:53.471415",
     "exception": false,
     "start_time": "2021-07-09T06:11:53.339997",
     "status": "completed"
    },
    "tags": []
   },
   "outputs": [
    {
     "name": "stdout",
     "output_type": "stream",
     "text": [
      "Accuracy is 77.27272727272727\n",
      "Cross validation is 80.9462881514061\n"
     ]
    }
   ],
   "source": [
    "from sklearn.linear_model import LogisticRegression\n",
    "model = LogisticRegression()\n",
    "classify(model, X, y)"
   ]
  },
  {
   "cell_type": "code",
   "execution_count": 60,
   "id": "starting-valentine",
   "metadata": {
    "execution": {
     "iopub.execute_input": "2021-07-09T06:11:53.602564Z",
     "iopub.status.busy": "2021-07-09T06:11:53.601583Z",
     "iopub.status.idle": "2021-07-09T06:11:54.514690Z",
     "shell.execute_reply": "2021-07-09T06:11:54.514142Z",
     "shell.execute_reply.started": "2021-07-01T11:24:03.299909Z"
    },
    "papermill": {
     "duration": 0.981494,
     "end_time": "2021-07-09T06:11:54.514833",
     "exception": false,
     "start_time": "2021-07-09T06:11:53.533339",
     "status": "completed"
    },
    "tags": []
   },
   "outputs": [
    {
     "name": "stdout",
     "output_type": "stream",
     "text": [
      "Accuracy is 77.27272727272727\n",
      "Cross validation is 78.34199653471944\n"
     ]
    }
   ],
   "source": [
    "from sklearn.ensemble import RandomForestClassifier\n",
    "model = RandomForestClassifier()\n",
    "classify(model, X, y)"
   ]
  },
  {
   "cell_type": "markdown",
   "id": "phantom-clearance",
   "metadata": {
    "papermill": {
     "duration": 0.06204,
     "end_time": "2021-07-09T06:11:54.640222",
     "exception": false,
     "start_time": "2021-07-09T06:11:54.578182",
     "status": "completed"
    },
    "tags": []
   },
   "source": [
    "# Confusion matrix"
   ]
  },
  {
   "cell_type": "code",
   "execution_count": 61,
   "id": "invalid-absolute",
   "metadata": {
    "execution": {
     "iopub.execute_input": "2021-07-09T06:11:54.771276Z",
     "iopub.status.busy": "2021-07-09T06:11:54.770679Z",
     "iopub.status.idle": "2021-07-09T06:11:54.787131Z",
     "shell.execute_reply": "2021-07-09T06:11:54.786670Z",
     "shell.execute_reply.started": "2021-07-01T11:24:04.519866Z"
    },
    "papermill": {
     "duration": 0.085577,
     "end_time": "2021-07-09T06:11:54.787256",
     "exception": false,
     "start_time": "2021-07-09T06:11:54.701679",
     "status": "completed"
    },
    "tags": []
   },
   "outputs": [
    {
     "data": {
      "text/plain": [
       "array([[21, 33],\n",
       "       [ 2, 98]])"
      ]
     },
     "execution_count": 61,
     "metadata": {},
     "output_type": "execute_result"
    }
   ],
   "source": [
    "from sklearn.metrics import confusion_matrix\n",
    "y_pred = model.predict(x_test)\n",
    "cm = confusion_matrix(y_test, y_pred)\n",
    "cm"
   ]
  },
  {
   "cell_type": "code",
   "execution_count": 62,
   "id": "important-poison",
   "metadata": {
    "execution": {
     "iopub.execute_input": "2021-07-09T06:11:54.933685Z",
     "iopub.status.busy": "2021-07-09T06:11:54.924568Z",
     "iopub.status.idle": "2021-07-09T06:11:55.110019Z",
     "shell.execute_reply": "2021-07-09T06:11:55.109526Z",
     "shell.execute_reply.started": "2021-07-01T11:24:04.551758Z"
    },
    "papermill": {
     "duration": 0.261101,
     "end_time": "2021-07-09T06:11:55.110153",
     "exception": false,
     "start_time": "2021-07-09T06:11:54.849052",
     "status": "completed"
    },
    "tags": []
   },
   "outputs": [
    {
     "data": {
      "text/plain": [
       "<AxesSubplot:>"
      ]
     },
     "execution_count": 62,
     "metadata": {},
     "output_type": "execute_result"
    },
    {
     "data": {
      "image/png": "[encoded data removed]",
      "text/plain": [
       "<Figure size 432x288 with 2 Axes>"
      ]
     },
     "metadata": {
      "needs_background": "light"
     },
     "output_type": "display_data"
    }
   ],
   "source": [
    "sns.heatmap(cm, annot=True)"
   ]
  }
 ],
 "metadata": {
  "kernelspec": {
   "display_name": "Python 3",
   "language": "python",
   "name": "python3"
  },
  "language_info": {
   "codemirror_mode": {
    "name": "ipython",
    "version": 3
   },
   "file_extension": ".py",
   "mimetype": "text/x-python",
   "name": "python",
   "nbconvert_exporter": "python",
   "pygments_lexer": "ipython3",
   "version": "3.7.10"
  },
  "papermill": {
   "default_parameters": {},
   "duration": 25.862093,
   "end_time": "2021-07-09T06:11:56.528774",
   "environment_variables": {},
   "exception": null,
   "input_path": "__notebook__.ipynb",
   "output_path": "__notebook__.ipynb",
   "parameters": {},
   "start_time": "2021-07-09T06:11:30.666681",
   "version": "2.3.3"
  }
 },
 "nbformat": 4,
 "nbformat_minor": 5
}
